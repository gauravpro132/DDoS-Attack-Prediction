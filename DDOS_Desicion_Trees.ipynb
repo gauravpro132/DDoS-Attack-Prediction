{
  "cells": [
    {
      "cell_type": "code",
      "execution_count": 47,
      "id": "b2efbf44",
      "metadata": {
        "colab": {
          "base_uri": "https://localhost:8080/",
          "height": 352
        },
        "id": "b2efbf44",
        "outputId": "fa9ef46d-cf25-401f-b62c-7b354a227dba"
      },
      "outputs": [
        {
          "output_type": "execute_result",
          "data": {
            "text/plain": [
              "    Destination Port   Flow Duration   Total Fwd Packets  \\\n",
              "0              54865               3                   2   \n",
              "1              55054             109                   1   \n",
              "2              55055              52                   1   \n",
              "3              46236              34                   1   \n",
              "4              54863               3                   2   \n",
              "\n",
              "    Total Backward Packets  Total Length of Fwd Packets  \\\n",
              "0                        0                           12   \n",
              "1                        1                            6   \n",
              "2                        1                            6   \n",
              "3                        1                            6   \n",
              "4                        0                           12   \n",
              "\n",
              "    Total Length of Bwd Packets   Fwd Packet Length Max  \\\n",
              "0                             0                       6   \n",
              "1                             6                       6   \n",
              "2                             6                       6   \n",
              "3                             6                       6   \n",
              "4                             0                       6   \n",
              "\n",
              "    Fwd Packet Length Min   Fwd Packet Length Mean   Fwd Packet Length Std  \\\n",
              "0                       6                      6.0                     0.0   \n",
              "1                       6                      6.0                     0.0   \n",
              "2                       6                      6.0                     0.0   \n",
              "3                       6                      6.0                     0.0   \n",
              "4                       6                      6.0                     0.0   \n",
              "\n",
              "   ...   min_seg_size_forward  Active Mean   Active Std   Active Max  \\\n",
              "0  ...                   20.0          0.0          0.0          0.0   \n",
              "1  ...                   20.0          0.0          0.0          0.0   \n",
              "2  ...                   20.0          0.0          0.0          0.0   \n",
              "3  ...                   20.0          0.0          0.0          0.0   \n",
              "4  ...                   20.0          0.0          0.0          0.0   \n",
              "\n",
              "    Active Min  Idle Mean   Idle Std   Idle Max   Idle Min   Label  \n",
              "0          0.0        0.0        0.0        0.0        0.0  BENIGN  \n",
              "1          0.0        0.0        0.0        0.0        0.0  BENIGN  \n",
              "2          0.0        0.0        0.0        0.0        0.0  BENIGN  \n",
              "3          0.0        0.0        0.0        0.0        0.0  BENIGN  \n",
              "4          0.0        0.0        0.0        0.0        0.0  BENIGN  \n",
              "\n",
              "[5 rows x 79 columns]"
            ],
            "text/html": [
              "\n",
              "  <div id=\"df-18805444-38b9-47fb-abc7-2080230da85e\">\n",
              "    <div class=\"colab-df-container\">\n",
              "      <div>\n",
              "<style scoped>\n",
              "    .dataframe tbody tr th:only-of-type {\n",
              "        vertical-align: middle;\n",
              "    }\n",
              "\n",
              "    .dataframe tbody tr th {\n",
              "        vertical-align: top;\n",
              "    }\n",
              "\n",
              "    .dataframe thead th {\n",
              "        text-align: right;\n",
              "    }\n",
              "</style>\n",
              "<table border=\"1\" class=\"dataframe\">\n",
              "  <thead>\n",
              "    <tr style=\"text-align: right;\">\n",
              "      <th></th>\n",
              "      <th>Destination Port</th>\n",
              "      <th>Flow Duration</th>\n",
              "      <th>Total Fwd Packets</th>\n",
              "      <th>Total Backward Packets</th>\n",
              "      <th>Total Length of Fwd Packets</th>\n",
              "      <th>Total Length of Bwd Packets</th>\n",
              "      <th>Fwd Packet Length Max</th>\n",
              "      <th>Fwd Packet Length Min</th>\n",
              "      <th>Fwd Packet Length Mean</th>\n",
              "      <th>Fwd Packet Length Std</th>\n",
              "      <th>...</th>\n",
              "      <th>min_seg_size_forward</th>\n",
              "      <th>Active Mean</th>\n",
              "      <th>Active Std</th>\n",
              "      <th>Active Max</th>\n",
              "      <th>Active Min</th>\n",
              "      <th>Idle Mean</th>\n",
              "      <th>Idle Std</th>\n",
              "      <th>Idle Max</th>\n",
              "      <th>Idle Min</th>\n",
              "      <th>Label</th>\n",
              "    </tr>\n",
              "  </thead>\n",
              "  <tbody>\n",
              "    <tr>\n",
              "      <th>0</th>\n",
              "      <td>54865</td>\n",
              "      <td>3</td>\n",
              "      <td>2</td>\n",
              "      <td>0</td>\n",
              "      <td>12</td>\n",
              "      <td>0</td>\n",
              "      <td>6</td>\n",
              "      <td>6</td>\n",
              "      <td>6.0</td>\n",
              "      <td>0.0</td>\n",
              "      <td>...</td>\n",
              "      <td>20.0</td>\n",
              "      <td>0.0</td>\n",
              "      <td>0.0</td>\n",
              "      <td>0.0</td>\n",
              "      <td>0.0</td>\n",
              "      <td>0.0</td>\n",
              "      <td>0.0</td>\n",
              "      <td>0.0</td>\n",
              "      <td>0.0</td>\n",
              "      <td>BENIGN</td>\n",
              "    </tr>\n",
              "    <tr>\n",
              "      <th>1</th>\n",
              "      <td>55054</td>\n",
              "      <td>109</td>\n",
              "      <td>1</td>\n",
              "      <td>1</td>\n",
              "      <td>6</td>\n",
              "      <td>6</td>\n",
              "      <td>6</td>\n",
              "      <td>6</td>\n",
              "      <td>6.0</td>\n",
              "      <td>0.0</td>\n",
              "      <td>...</td>\n",
              "      <td>20.0</td>\n",
              "      <td>0.0</td>\n",
              "      <td>0.0</td>\n",
              "      <td>0.0</td>\n",
              "      <td>0.0</td>\n",
              "      <td>0.0</td>\n",
              "      <td>0.0</td>\n",
              "      <td>0.0</td>\n",
              "      <td>0.0</td>\n",
              "      <td>BENIGN</td>\n",
              "    </tr>\n",
              "    <tr>\n",
              "      <th>2</th>\n",
              "      <td>55055</td>\n",
              "      <td>52</td>\n",
              "      <td>1</td>\n",
              "      <td>1</td>\n",
              "      <td>6</td>\n",
              "      <td>6</td>\n",
              "      <td>6</td>\n",
              "      <td>6</td>\n",
              "      <td>6.0</td>\n",
              "      <td>0.0</td>\n",
              "      <td>...</td>\n",
              "      <td>20.0</td>\n",
              "      <td>0.0</td>\n",
              "      <td>0.0</td>\n",
              "      <td>0.0</td>\n",
              "      <td>0.0</td>\n",
              "      <td>0.0</td>\n",
              "      <td>0.0</td>\n",
              "      <td>0.0</td>\n",
              "      <td>0.0</td>\n",
              "      <td>BENIGN</td>\n",
              "    </tr>\n",
              "    <tr>\n",
              "      <th>3</th>\n",
              "      <td>46236</td>\n",
              "      <td>34</td>\n",
              "      <td>1</td>\n",
              "      <td>1</td>\n",
              "      <td>6</td>\n",
              "      <td>6</td>\n",
              "      <td>6</td>\n",
              "      <td>6</td>\n",
              "      <td>6.0</td>\n",
              "      <td>0.0</td>\n",
              "      <td>...</td>\n",
              "      <td>20.0</td>\n",
              "      <td>0.0</td>\n",
              "      <td>0.0</td>\n",
              "      <td>0.0</td>\n",
              "      <td>0.0</td>\n",
              "      <td>0.0</td>\n",
              "      <td>0.0</td>\n",
              "      <td>0.0</td>\n",
              "      <td>0.0</td>\n",
              "      <td>BENIGN</td>\n",
              "    </tr>\n",
              "    <tr>\n",
              "      <th>4</th>\n",
              "      <td>54863</td>\n",
              "      <td>3</td>\n",
              "      <td>2</td>\n",
              "      <td>0</td>\n",
              "      <td>12</td>\n",
              "      <td>0</td>\n",
              "      <td>6</td>\n",
              "      <td>6</td>\n",
              "      <td>6.0</td>\n",
              "      <td>0.0</td>\n",
              "      <td>...</td>\n",
              "      <td>20.0</td>\n",
              "      <td>0.0</td>\n",
              "      <td>0.0</td>\n",
              "      <td>0.0</td>\n",
              "      <td>0.0</td>\n",
              "      <td>0.0</td>\n",
              "      <td>0.0</td>\n",
              "      <td>0.0</td>\n",
              "      <td>0.0</td>\n",
              "      <td>BENIGN</td>\n",
              "    </tr>\n",
              "  </tbody>\n",
              "</table>\n",
              "<p>5 rows × 79 columns</p>\n",
              "</div>\n",
              "      <button class=\"colab-df-convert\" onclick=\"convertToInteractive('df-18805444-38b9-47fb-abc7-2080230da85e')\"\n",
              "              title=\"Convert this dataframe to an interactive table.\"\n",
              "              style=\"display:none;\">\n",
              "        \n",
              "  <svg xmlns=\"http://www.w3.org/2000/svg\" height=\"24px\"viewBox=\"0 0 24 24\"\n",
              "       width=\"24px\">\n",
              "    <path d=\"M0 0h24v24H0V0z\" fill=\"none\"/>\n",
              "    <path d=\"M18.56 5.44l.94 2.06.94-2.06 2.06-.94-2.06-.94-.94-2.06-.94 2.06-2.06.94zm-11 1L8.5 8.5l.94-2.06 2.06-.94-2.06-.94L8.5 2.5l-.94 2.06-2.06.94zm10 10l.94 2.06.94-2.06 2.06-.94-2.06-.94-.94-2.06-.94 2.06-2.06.94z\"/><path d=\"M17.41 7.96l-1.37-1.37c-.4-.4-.92-.59-1.43-.59-.52 0-1.04.2-1.43.59L10.3 9.45l-7.72 7.72c-.78.78-.78 2.05 0 2.83L4 21.41c.39.39.9.59 1.41.59.51 0 1.02-.2 1.41-.59l7.78-7.78 2.81-2.81c.8-.78.8-2.07 0-2.86zM5.41 20L4 18.59l7.72-7.72 1.47 1.35L5.41 20z\"/>\n",
              "  </svg>\n",
              "      </button>\n",
              "      \n",
              "  <style>\n",
              "    .colab-df-container {\n",
              "      display:flex;\n",
              "      flex-wrap:wrap;\n",
              "      gap: 12px;\n",
              "    }\n",
              "\n",
              "    .colab-df-convert {\n",
              "      background-color: #E8F0FE;\n",
              "      border: none;\n",
              "      border-radius: 50%;\n",
              "      cursor: pointer;\n",
              "      display: none;\n",
              "      fill: #1967D2;\n",
              "      height: 32px;\n",
              "      padding: 0 0 0 0;\n",
              "      width: 32px;\n",
              "    }\n",
              "\n",
              "    .colab-df-convert:hover {\n",
              "      background-color: #E2EBFA;\n",
              "      box-shadow: 0px 1px 2px rgba(60, 64, 67, 0.3), 0px 1px 3px 1px rgba(60, 64, 67, 0.15);\n",
              "      fill: #174EA6;\n",
              "    }\n",
              "\n",
              "    [theme=dark] .colab-df-convert {\n",
              "      background-color: #3B4455;\n",
              "      fill: #D2E3FC;\n",
              "    }\n",
              "\n",
              "    [theme=dark] .colab-df-convert:hover {\n",
              "      background-color: #434B5C;\n",
              "      box-shadow: 0px 1px 3px 1px rgba(0, 0, 0, 0.15);\n",
              "      filter: drop-shadow(0px 1px 2px rgba(0, 0, 0, 0.3));\n",
              "      fill: #FFFFFF;\n",
              "    }\n",
              "  </style>\n",
              "\n",
              "      <script>\n",
              "        const buttonEl =\n",
              "          document.querySelector('#df-18805444-38b9-47fb-abc7-2080230da85e button.colab-df-convert');\n",
              "        buttonEl.style.display =\n",
              "          google.colab.kernel.accessAllowed ? 'block' : 'none';\n",
              "\n",
              "        async function convertToInteractive(key) {\n",
              "          const element = document.querySelector('#df-18805444-38b9-47fb-abc7-2080230da85e');\n",
              "          const dataTable =\n",
              "            await google.colab.kernel.invokeFunction('convertToInteractive',\n",
              "                                                     [key], {});\n",
              "          if (!dataTable) return;\n",
              "\n",
              "          const docLinkHtml = 'Like what you see? Visit the ' +\n",
              "            '<a target=\"_blank\" href=https://colab.research.google.com/notebooks/data_table.ipynb>data table notebook</a>'\n",
              "            + ' to learn more about interactive tables.';\n",
              "          element.innerHTML = '';\n",
              "          dataTable['output_type'] = 'display_data';\n",
              "          await google.colab.output.renderOutput(dataTable, element);\n",
              "          const docLink = document.createElement('div');\n",
              "          docLink.innerHTML = docLinkHtml;\n",
              "          element.appendChild(docLink);\n",
              "        }\n",
              "      </script>\n",
              "    </div>\n",
              "  </div>\n",
              "  "
            ]
          },
          "metadata": {},
          "execution_count": 47
        }
      ],
      "source": [
        "import numpy as np # linear algebra\n",
        "import pandas as pd # data processing, CSV file \n",
        "import os\n",
        "\n",
        "df = pd.read_csv('sample_data/finalddos.csv')\n",
        "df.head()"
      ]
    },
    {
      "cell_type": "code",
      "execution_count": 48,
      "id": "86b5a88c",
      "metadata": {
        "id": "86b5a88c"
      },
      "outputs": [],
      "source": [
        "import sys\n",
        "import sklearn"
      ]
    },
    {
      "cell_type": "code",
      "execution_count": 49,
      "id": "2aa52d65",
      "metadata": {
        "colab": {
          "base_uri": "https://localhost:8080/"
        },
        "id": "2aa52d65",
        "outputId": "5fe669a7-460c-4376-f80c-76e85744f81a"
      },
      "outputs": [
        {
          "output_type": "stream",
          "name": "stdout",
          "text": [
            "Dimensions of the  dataset: (85540, 79)\n"
          ]
        }
      ],
      "source": [
        "print('Dimensions of the  dataset:',df.shape)"
      ]
    },
    {
      "cell_type": "code",
      "execution_count": 51,
      "id": "82e4b711",
      "metadata": {
        "id": "82e4b711"
      },
      "outputs": [],
      "source": [
        "#df.info()\n",
        "#df.describe()"
      ]
    },
    {
      "cell_type": "code",
      "source": [
        "x = df.drop(' Label',axis=1)\n",
        "y = df[' Label']"
      ],
      "metadata": {
        "id": "cC2ifKCOaroB"
      },
      "id": "cC2ifKCOaroB",
      "execution_count": 7,
      "outputs": []
    },
    {
      "cell_type": "code",
      "execution_count": 8,
      "id": "70e07723",
      "metadata": {
        "colab": {
          "base_uri": "https://localhost:8080/"
        },
        "id": "70e07723",
        "outputId": "d62749d3-2c37-43aa-be0c-cad7d174a1bd"
      },
      "outputs": [
        {
          "output_type": "execute_result",
          "data": {
            "text/plain": [
              "(43997, 79)"
            ]
          },
          "metadata": {},
          "execution_count": 8
        }
      ],
      "source": [
        "dropdf= df.dropna()\n",
        "dropdf.shape"
      ]
    },
    {
      "cell_type": "code",
      "execution_count": 9,
      "id": "aaace842",
      "metadata": {
        "colab": {
          "base_uri": "https://localhost:8080/"
        },
        "id": "aaace842",
        "outputId": "37cc5b07-0ae2-4239-bf4e-df2921aa7425"
      },
      "outputs": [
        {
          "output_type": "execute_result",
          "data": {
            "text/plain": [
              "Series([], dtype: bool)"
            ]
          },
          "metadata": {},
          "execution_count": 9
        }
      ],
      "source": [
        "dropdf.isna().any()[lambda x:x]"
      ]
    },
    {
      "cell_type": "code",
      "execution_count": 10,
      "id": "286667de",
      "metadata": {
        "id": "286667de"
      },
      "outputs": [],
      "source": [
        "del dropdf['Flow Bytes/s']\n",
        "del dropdf[' Flow Packets/s']"
      ]
    },
    {
      "cell_type": "code",
      "execution_count": 11,
      "id": "3e7a738e",
      "metadata": {
        "colab": {
          "base_uri": "https://localhost:8080/"
        },
        "id": "3e7a738e",
        "outputId": "165642f0-8085-4a8a-913e-1c1fb308a756"
      },
      "outputs": [
        {
          "output_type": "execute_result",
          "data": {
            "text/plain": [
              " Destination Port               54865\n",
              " Flow Duration                      3\n",
              " Total Fwd Packets                2.0\n",
              " Total Backward Packets           0.0\n",
              "Total Length of Fwd Packets      12.0\n",
              "                                ...  \n",
              "Idle Mean                         0.0\n",
              " Idle Std                         0.0\n",
              " Idle Max                         0.0\n",
              " Idle Min                         0.0\n",
              " Label                         BENIGN\n",
              "Name: 0, Length: 79, dtype: object"
            ]
          },
          "metadata": {},
          "execution_count": 11
        }
      ],
      "source": [
        "df.iloc[0]"
      ]
    },
    {
      "cell_type": "code",
      "execution_count": 12,
      "id": "db4cdc14",
      "metadata": {
        "colab": {
          "base_uri": "https://localhost:8080/"
        },
        "id": "db4cdc14",
        "outputId": "f36f9a21-190f-48ef-ba91-49402d53e707"
      },
      "outputs": [
        {
          "output_type": "stream",
          "name": "stdout",
          "text": [
            "(35197, 77)\n",
            "(8800, 77)\n"
          ]
        }
      ],
      "source": [
        "from sklearn.model_selection import train_test_split\n",
        "df_train, df_test=train_test_split(dropdf,test_size = 0.20)\n",
        "print(df_train.shape)\n",
        "print(df_test.shape)"
      ]
    },
    {
      "cell_type": "code",
      "execution_count": 13,
      "id": "8df8714b",
      "metadata": {
        "colab": {
          "base_uri": "https://localhost:8080/"
        },
        "id": "8df8714b",
        "outputId": "6d10e888-638e-4c08-d7ad-3823e23829ad"
      },
      "outputs": [
        {
          "output_type": "stream",
          "name": "stdout",
          "text": [
            "Label distribution Training set:\n",
            "BENIGN    20626\n",
            "DDoS      14571\n",
            "Name:  Label, dtype: int64\n",
            "\n",
            "Label distribution Test set:\n",
            "BENIGN    5168\n",
            "DDoS      3632\n",
            "Name:  Label, dtype: int64\n"
          ]
        }
      ],
      "source": [
        "print('Label distribution Training set:')\n",
        "print(df_train[' Label'].value_counts())\n",
        "print()\n",
        "print('Label distribution Test set:')\n",
        "print(df_test[' Label'].value_counts())"
      ]
    },
    {
      "cell_type": "code",
      "execution_count": 14,
      "id": "a9b692b0",
      "metadata": {
        "colab": {
          "base_uri": "https://localhost:8080/"
        },
        "id": "a9b692b0",
        "outputId": "08324e3c-f1db-4f53-ed5f-445aadf431be"
      },
      "outputs": [
        {
          "output_type": "stream",
          "name": "stdout",
          "text": [
            "25892      DDoS\n",
            "828      BENIGN\n",
            "37209      DDoS\n",
            "15627    BENIGN\n",
            "39099      DDoS\n",
            "          ...  \n",
            "41323    BENIGN\n",
            "29769      DDoS\n",
            "18500    BENIGN\n",
            "25435      DDoS\n",
            "6422     BENIGN\n",
            "Name:  Label, Length: 35197, dtype: object\n"
          ]
        }
      ],
      "source": [
        "# Setting the new value\n",
        "\n",
        "labeldf=df_train[' Label']\n",
        "print(labeldf)\n"
      ]
    },
    {
      "cell_type": "code",
      "execution_count": 15,
      "id": "bfc32b04",
      "metadata": {
        "colab": {
          "base_uri": "https://localhost:8080/"
        },
        "id": "bfc32b04",
        "outputId": "6e026437-d0f8-4570-e127-2e1d667fea44"
      },
      "outputs": [
        {
          "output_type": "stream",
          "name": "stdout",
          "text": [
            "39814      DDoS\n",
            "25815      DDoS\n",
            "22410    BENIGN\n",
            "27816      DDoS\n",
            "5417     BENIGN\n",
            "          ...  \n",
            "9618     BENIGN\n",
            "41100    BENIGN\n",
            "3845     BENIGN\n",
            "2980     BENIGN\n",
            "28110      DDoS\n",
            "Name:  Label, Length: 8800, dtype: object\n"
          ]
        }
      ],
      "source": [
        "labeldf_test=df_test[' Label']\n",
        "print(labeldf_test)\n",
        "#change the label column"
      ]
    },
    {
      "cell_type": "code",
      "execution_count": 16,
      "id": "0686be95",
      "metadata": {
        "id": "0686be95",
        "colab": {
          "base_uri": "https://localhost:8080/"
        },
        "outputId": "c558bdad-b74c-476d-d869-4c8ce539351e"
      },
      "outputs": [
        {
          "output_type": "stream",
          "name": "stdout",
          "text": [
            "25892    1\n",
            "828      0\n",
            "37209    1\n",
            "15627    0\n",
            "39099    1\n",
            "        ..\n",
            "41323    0\n",
            "29769    1\n",
            "18500    0\n",
            "25435    1\n",
            "6422     0\n",
            "Name:  Label, Length: 35197, dtype: int64\n",
            "25892    1\n",
            "828      0\n",
            "37209    1\n",
            "15627    0\n",
            "39099    1\n",
            "        ..\n",
            "41323    0\n",
            "29769    1\n",
            "18500    0\n",
            "25435    1\n",
            "6422     0\n",
            "Name:  Label, Length: 35197, dtype: int64\n"
          ]
        }
      ],
      "source": [
        "newlabeldf_test=labeldf_test.replace({ 'BENIGN' : 0, 'DDoS' : 1 })\n",
        "newlabeldf=labeldf.replace({ 'BENIGN' : 0, 'DDoS' : 1 })\n",
        "\n",
        "print(newlabeldf)\n",
        " \n",
        "df_train[' Label'] = newlabeldf\n",
        "df_test[' Label'] = newlabeldf_test\n",
        "print(df_train[' Label'])\n"
      ]
    },
    {
      "cell_type": "code",
      "execution_count": 17,
      "id": "ee560098",
      "metadata": {
        "colab": {
          "base_uri": "https://localhost:8080/"
        },
        "id": "ee560098",
        "outputId": "e224e021-8a5b-40dd-9aaa-a68b4dcc55af"
      },
      "outputs": [
        {
          "output_type": "stream",
          "name": "stderr",
          "text": [
            "/usr/local/lib/python3.7/dist-packages/ipykernel_launcher.py:1: FutureWarning: In a future version of pandas all arguments of DataFrame.drop except for the argument 'labels' will be keyword-only\n",
            "  \"\"\"Entry point for launching an IPython kernel.\n",
            "/usr/local/lib/python3.7/dist-packages/ipykernel_launcher.py:3: FutureWarning: In a future version of pandas all arguments of DataFrame.drop except for the argument 'labels' will be keyword-only\n",
            "  This is separate from the ipykernel package so we can avoid doing imports until\n"
          ]
        },
        {
          "output_type": "execute_result",
          "data": {
            "text/plain": [
              "25892    1\n",
              "828      0\n",
              "37209    1\n",
              "15627    0\n",
              "39099    1\n",
              "        ..\n",
              "41323    0\n",
              "29769    1\n",
              "18500    0\n",
              "25435    1\n",
              "6422     0\n",
              "Name:  Label, Length: 35197, dtype: int64"
            ]
          },
          "metadata": {},
          "execution_count": 17
        }
      ],
      "source": [
        "X_df_train=df_train.drop(' Label',1)\n",
        "Y_df_train=df_train[' Label']\n",
        "X_df_test=df_test.drop(' Label',1)\n",
        "Y_df_test=df_test[' Label']\n",
        "X_df_train\n",
        "Y_df_train"
      ]
    },
    {
      "cell_type": "code",
      "execution_count": 18,
      "id": "7fa8bb64",
      "metadata": {
        "colab": {
          "base_uri": "https://localhost:8080/"
        },
        "id": "7fa8bb64",
        "outputId": "fa1ece89-eea4-4c06-d56c-82081cfcf3b7"
      },
      "outputs": [
        {
          "output_type": "stream",
          "name": "stdout",
          "text": [
            "[' Destination Port', ' Flow Duration', ' Total Fwd Packets', ' Total Backward Packets', 'Total Length of Fwd Packets', ' Total Length of Bwd Packets', ' Fwd Packet Length Max', ' Fwd Packet Length Min', ' Fwd Packet Length Mean', ' Fwd Packet Length Std', 'Bwd Packet Length Max', ' Bwd Packet Length Min', ' Bwd Packet Length Mean', ' Bwd Packet Length Std', ' Flow IAT Mean', ' Flow IAT Std', ' Flow IAT Max', ' Flow IAT Min', 'Fwd IAT Total', ' Fwd IAT Mean', ' Fwd IAT Std', ' Fwd IAT Max', ' Fwd IAT Min', 'Bwd IAT Total', ' Bwd IAT Mean', ' Bwd IAT Std', ' Bwd IAT Max', ' Bwd IAT Min', 'Fwd PSH Flags', ' Bwd PSH Flags', ' Fwd URG Flags', ' Bwd URG Flags', ' Fwd Header Length', ' Bwd Header Length', 'Fwd Packets/s', ' Bwd Packets/s', ' Min Packet Length', ' Max Packet Length', ' Packet Length Mean', ' Packet Length Std', ' Packet Length Variance', 'FIN Flag Count', ' SYN Flag Count', ' RST Flag Count', ' PSH Flag Count', ' ACK Flag Count', ' URG Flag Count', ' CWE Flag Count', ' ECE Flag Count', ' Down/Up Ratio', ' Average Packet Size', ' Avg Fwd Segment Size', ' Avg Bwd Segment Size', ' Fwd Header Length.1', 'Fwd Avg Bytes/Bulk', ' Fwd Avg Packets/Bulk', ' Fwd Avg Bulk Rate', ' Bwd Avg Bytes/Bulk', ' Bwd Avg Packets/Bulk', 'Bwd Avg Bulk Rate', 'Subflow Fwd Packets', ' Subflow Fwd Bytes', ' Subflow Bwd Packets', ' Subflow Bwd Bytes', 'Init_Win_bytes_forward', ' Init_Win_bytes_backward', ' act_data_pkt_fwd', ' min_seg_size_forward', 'Active Mean', ' Active Std', ' Active Max', ' Active Min', 'Idle Mean', ' Idle Std', ' Idle Max', ' Idle Min']\n"
          ]
        }
      ],
      "source": [
        "colNames=list(X_df_train)\n",
        "colNames_test=list(X_df_test)\n",
        "X_df_train.shape\n",
        "print(colNames)"
      ]
    },
    {
      "cell_type": "code",
      "execution_count": 19,
      "id": "6ffa9a37",
      "metadata": {
        "id": "6ffa9a37"
      },
      "outputs": [],
      "source": [
        "#print(X_df_train)\n",
        "from sklearn import preprocessing\n",
        "scaler1 = preprocessing.StandardScaler().fit(X_df_train)\n",
        "X_df_train=scaler1.transform(X_df_train) \n",
        "# test data\n",
        "scaler2 = preprocessing.StandardScaler().fit(X_df_test)\n",
        "X_df_test=scaler2.transform(X_df_test) \n",
        "\n"
      ]
    },
    {
      "cell_type": "code",
      "execution_count": 20,
      "id": "89c08d66",
      "metadata": {
        "colab": {
          "base_uri": "https://localhost:8080/"
        },
        "id": "89c08d66",
        "outputId": "1142253a-5ba0-409d-dd6a-258458ba4f4b"
      },
      "outputs": [
        {
          "output_type": "stream",
          "name": "stdout",
          "text": [
            "[1. 1. 1. 1. 1. 1. 1. 1. 1. 1. 1. 1. 1. 1. 1. 1. 1. 1. 1. 1. 1. 1. 1. 1.\n",
            " 1. 1. 1. 1. 1. 0. 0. 0. 1. 1. 1. 1. 1. 1. 1. 1. 1. 1. 1. 1. 1. 1. 1. 0.\n",
            " 1. 1. 1. 1. 1. 1. 0. 0. 0. 0. 0. 0. 1. 1. 1. 1. 1. 1. 1. 1. 1. 1. 1. 1.\n",
            " 1. 1. 1. 1.]\n"
          ]
        }
      ],
      "source": [
        "print(X_df_train.std(axis=0))"
      ]
    },
    {
      "cell_type": "code",
      "execution_count": 21,
      "id": "2b131007",
      "metadata": {
        "colab": {
          "base_uri": "https://localhost:8080/"
        },
        "id": "2b131007",
        "outputId": "f16be3ad-73df-4275-c607-07939e072658"
      },
      "outputs": [
        {
          "output_type": "stream",
          "name": "stderr",
          "text": [
            "/usr/local/lib/python3.7/dist-packages/sklearn/feature_selection/_univariate_selection.py:112: UserWarning: Features [29 30 31 47 54 55 56 57 58 59] are constant.\n",
            "  warnings.warn(\"Features %s are constant.\" % constant_features_idx, UserWarning)\n"
          ]
        },
        {
          "output_type": "execute_result",
          "data": {
            "text/plain": [
              "(35197, 8)"
            ]
          },
          "metadata": {},
          "execution_count": 21
        }
      ],
      "source": [
        "from sklearn.feature_selection import SelectPercentile, f_classif\n",
        "np.seterr(divide='ignore', invalid='ignore')\n",
        "selector=SelectPercentile(f_classif, percentile=10)\n",
        "X_newdf_train = selector.fit_transform(X_df_train,Y_df_train)\n",
        "X_newdf_train.shape"
      ]
    },
    {
      "cell_type": "code",
      "execution_count": 22,
      "id": "5bd59647",
      "metadata": {
        "colab": {
          "base_uri": "https://localhost:8080/"
        },
        "id": "5bd59647",
        "outputId": "a14aedc2-5846-4922-8a20-961daa158835"
      },
      "outputs": [
        {
          "output_type": "execute_result",
          "data": {
            "text/plain": [
              "['Bwd Packet Length Max',\n",
              " ' Bwd Packet Length Mean',\n",
              " ' Bwd Packet Length Std',\n",
              " ' Max Packet Length',\n",
              " ' Packet Length Mean',\n",
              " ' Packet Length Std',\n",
              " ' Average Packet Size',\n",
              " ' Avg Bwd Segment Size']"
            ]
          },
          "metadata": {},
          "execution_count": 22
        }
      ],
      "source": [
        "true=selector.get_support()\n",
        "newcolindex_DDoS=[i for i, x in enumerate(true) if x]\n",
        "newcolname_DDoS=list( colNames[i] for i in newcolindex_DDoS )\n",
        "newcolname_DDoS"
      ]
    },
    {
      "cell_type": "code",
      "execution_count": 23,
      "id": "43659d58",
      "metadata": {
        "colab": {
          "base_uri": "https://localhost:8080/"
        },
        "id": "43659d58",
        "outputId": "82acdf30-b678-484b-8c64-bdfb328ef912"
      },
      "outputs": [
        {
          "output_type": "stream",
          "name": "stdout",
          "text": [
            "Features selected for DDoS: ['Bwd Packet Length Max', ' Bwd Packet Length Mean', ' Bwd Packet Length Std', ' Max Packet Length', ' Packet Length Mean', ' Packet Length Std', ' Average Packet Size', ' Avg Bwd Segment Size']\n"
          ]
        }
      ],
      "source": [
        "print('Features selected for DDoS:',newcolname_DDoS)"
      ]
    },
    {
      "cell_type": "code",
      "execution_count": 24,
      "id": "6e0e8fd9",
      "metadata": {
        "id": "6e0e8fd9",
        "colab": {
          "base_uri": "https://localhost:8080/",
          "height": 53
        },
        "outputId": "97a449a5-e949-4998-c07e-3d649b1cc57e"
      },
      "outputs": [
        {
          "output_type": "execute_result",
          "data": {
            "text/plain": [
              "'from sklearn import preprocessing\\nfrom sklearn import utils\\n\\nlab_enc = preprocessing.LabelEncoder()\\nencoded = lab_enc.fit_transform(Y_df_train)'"
            ],
            "application/vnd.google.colaboratory.intrinsic+json": {
              "type": "string"
            }
          },
          "metadata": {},
          "execution_count": 24
        }
      ],
      "source": [
        "'''from sklearn import preprocessing\n",
        "from sklearn import utils\n",
        "\n",
        "lab_enc = preprocessing.LabelEncoder()\n",
        "encoded = lab_enc.fit_transform(Y_df_train)'''"
      ]
    },
    {
      "cell_type": "code",
      "execution_count": 25,
      "id": "0c568ffe",
      "metadata": {
        "id": "0c568ffe"
      },
      "outputs": [],
      "source": [
        "Y_df_train=Y_df_train.astype('int')"
      ]
    },
    {
      "cell_type": "code",
      "execution_count": 26,
      "id": "30c4a363",
      "metadata": {
        "colab": {
          "base_uri": "https://localhost:8080/"
        },
        "id": "30c4a363",
        "outputId": "2b5a1c17-8dbc-489b-f054-fe7f87a16af2"
      },
      "outputs": [
        {
          "output_type": "stream",
          "name": "stdout",
          "text": [
            "DDoS Features sorted by their rank:\n",
            "[(1, ' Bwd Packet Length Std'), (2, ' Average Packet Size'), (3, ' Bwd Packet Length Mean'), (4, 'Bwd Packet Length Max'), (5, ' Packet Length Std'), (6, ' Avg Bwd Segment Size'), (7, ' Max Packet Length'), (8, ' Packet Length Mean')]\n"
          ]
        }
      ],
      "source": [
        "from sklearn.feature_selection import RFE\n",
        "from sklearn.tree import DecisionTreeClassifier\n",
        "# Create a decision tree classifier. By convention, clf means 'classifier'\n",
        "clf = DecisionTreeClassifier(random_state=0)\n",
        "\n",
        "#rank all features, i.e continue the elimination until the last one\n",
        "rfe = RFE(clf, n_features_to_select=1)\n",
        "rfe.fit(X_newdf_train, Y_df_train)\n",
        "print (\"DDoS Features sorted by their rank:\")\n",
        "print (sorted(zip(map(lambda x: round(x, 1), rfe.ranking_), newcolname_DDoS)))"
      ]
    },
    {
      "cell_type": "code",
      "execution_count": 27,
      "id": "c24699f9",
      "metadata": {
        "id": "c24699f9"
      },
      "outputs": [],
      "source": [
        "from sklearn.feature_selection import RFE\n",
        "clf = DecisionTreeClassifier(random_state=0)\n",
        "rfe = RFE(estimator=clf, n_features_to_select=8, step=1)\n",
        "rfe.fit(X_df_train, Y_df_train)\n",
        "X_rfeDDoS=rfe.transform(X_df_train)\n",
        "true=rfe.support_\n",
        "rfecolindex_DDoS=[i for i, x in enumerate(true) if x]\n",
        "rfecolname_DDoS=list(colNames[i] for i in rfecolindex_DDoS)"
      ]
    },
    {
      "cell_type": "code",
      "execution_count": 59,
      "id": "1766cbaf",
      "metadata": {
        "colab": {
          "base_uri": "https://localhost:8080/"
        },
        "id": "1766cbaf",
        "outputId": "e998b17d-fe20-4403-938b-d86fd7ee2c4f"
      },
      "outputs": [
        {
          "output_type": "stream",
          "name": "stdout",
          "text": [
            "Features selected for DDoS: [' Destination Port', ' Total Backward Packets', ' Fwd Packet Length Mean', ' Bwd Packet Length Min', ' Bwd Packet Length Std', ' Flow IAT Std', ' act_data_pkt_fwd', ' Idle Min']\n"
          ]
        }
      ],
      "source": [
        "print('Features selected for DDoS:',rfecolname_DDoS)"
      ]
    },
    {
      "cell_type": "code",
      "execution_count": 29,
      "id": "07659853",
      "metadata": {
        "colab": {
          "base_uri": "https://localhost:8080/"
        },
        "id": "07659853",
        "outputId": "d69266e9-2ce6-44a6-85fd-4a5fa4522fad"
      },
      "outputs": [
        {
          "output_type": "stream",
          "name": "stdout",
          "text": [
            "(35197, 8)\n",
            "[[-0.38106109 -0.21468258 -0.0279694  ... -0.23597501 -0.07087292\n",
            "   0.09662402]\n",
            " [-0.3591552   3.7258514   1.00713798 ... -0.23273577  0.09151234\n",
            "   0.30177642]\n",
            " [-0.38106109 -0.42876344 -0.13148014 ... -0.23597501 -0.41513225\n",
            "  -0.35285329]\n",
            " ...\n",
            " [-0.38269045 -0.45893249 -0.1832355  ... -0.23597501 -0.41513225\n",
            "  -0.35285329]\n",
            " [-0.38106109 -0.28547997 -0.07972477 ... -0.23597501 -0.41513225\n",
            "  -0.35285329]\n",
            " [-0.38269045 -0.4589338  -0.1832355  ... -0.23597501 -0.41513225\n",
            "  -0.35285329]]\n"
          ]
        }
      ],
      "source": [
        "print(X_rfeDDoS.shape)\n",
        "#print(X_df_train)"
      ]
    },
    {
      "cell_type": "code",
      "execution_count": 30,
      "id": "2730df5f",
      "metadata": {
        "colab": {
          "base_uri": "https://localhost:8080/"
        },
        "id": "2730df5f",
        "outputId": "d6597a16-e2c4-44f7-eee4-34851cedad72"
      },
      "outputs": [
        {
          "output_type": "execute_result",
          "data": {
            "text/plain": [
              "DecisionTreeClassifier(random_state=0)"
            ]
          },
          "metadata": {},
          "execution_count": 30
        }
      ],
      "source": [
        "# all features\n",
        "clf_DDoS=DecisionTreeClassifier(random_state=0)\n",
        "clf_DDoS.fit(X_df_train, Y_df_train)"
      ]
    },
    {
      "cell_type": "code",
      "execution_count": 31,
      "id": "2bf2ff23",
      "metadata": {
        "colab": {
          "base_uri": "https://localhost:8080/"
        },
        "id": "2bf2ff23",
        "outputId": "e82b10d1-4dc7-436e-a8c3-a444c8669651"
      },
      "outputs": [
        {
          "output_type": "execute_result",
          "data": {
            "text/plain": [
              "DecisionTreeClassifier(random_state=0)"
            ]
          },
          "metadata": {},
          "execution_count": 31
        }
      ],
      "source": [
        "#selected features\n",
        "clf_rfeDDoS=DecisionTreeClassifier(random_state=0)\n",
        "clf_rfeDDoS.fit(X_rfeDDoS, Y_df_train)"
      ]
    },
    {
      "cell_type": "code",
      "execution_count": 32,
      "id": "18a6ac16",
      "metadata": {
        "colab": {
          "base_uri": "https://localhost:8080/",
          "height": 143
        },
        "id": "18a6ac16",
        "outputId": "05a7fadc-f964-40f1-e3ff-7566861b751b"
      },
      "outputs": [
        {
          "output_type": "execute_result",
          "data": {
            "text/plain": [
              "Predicted attacks     0     1\n",
              "Actual attacks               \n",
              "0                  5168     0\n",
              "1                  1117  2515"
            ],
            "text/html": [
              "\n",
              "  <div id=\"df-c3070afe-44d1-4b59-9146-ccca9543fe5d\">\n",
              "    <div class=\"colab-df-container\">\n",
              "      <div>\n",
              "<style scoped>\n",
              "    .dataframe tbody tr th:only-of-type {\n",
              "        vertical-align: middle;\n",
              "    }\n",
              "\n",
              "    .dataframe tbody tr th {\n",
              "        vertical-align: top;\n",
              "    }\n",
              "\n",
              "    .dataframe thead th {\n",
              "        text-align: right;\n",
              "    }\n",
              "</style>\n",
              "<table border=\"1\" class=\"dataframe\">\n",
              "  <thead>\n",
              "    <tr style=\"text-align: right;\">\n",
              "      <th>Predicted attacks</th>\n",
              "      <th>0</th>\n",
              "      <th>1</th>\n",
              "    </tr>\n",
              "    <tr>\n",
              "      <th>Actual attacks</th>\n",
              "      <th></th>\n",
              "      <th></th>\n",
              "    </tr>\n",
              "  </thead>\n",
              "  <tbody>\n",
              "    <tr>\n",
              "      <th>0</th>\n",
              "      <td>5168</td>\n",
              "      <td>0</td>\n",
              "    </tr>\n",
              "    <tr>\n",
              "      <th>1</th>\n",
              "      <td>1117</td>\n",
              "      <td>2515</td>\n",
              "    </tr>\n",
              "  </tbody>\n",
              "</table>\n",
              "</div>\n",
              "      <button class=\"colab-df-convert\" onclick=\"convertToInteractive('df-c3070afe-44d1-4b59-9146-ccca9543fe5d')\"\n",
              "              title=\"Convert this dataframe to an interactive table.\"\n",
              "              style=\"display:none;\">\n",
              "        \n",
              "  <svg xmlns=\"http://www.w3.org/2000/svg\" height=\"24px\"viewBox=\"0 0 24 24\"\n",
              "       width=\"24px\">\n",
              "    <path d=\"M0 0h24v24H0V0z\" fill=\"none\"/>\n",
              "    <path d=\"M18.56 5.44l.94 2.06.94-2.06 2.06-.94-2.06-.94-.94-2.06-.94 2.06-2.06.94zm-11 1L8.5 8.5l.94-2.06 2.06-.94-2.06-.94L8.5 2.5l-.94 2.06-2.06.94zm10 10l.94 2.06.94-2.06 2.06-.94-2.06-.94-.94-2.06-.94 2.06-2.06.94z\"/><path d=\"M17.41 7.96l-1.37-1.37c-.4-.4-.92-.59-1.43-.59-.52 0-1.04.2-1.43.59L10.3 9.45l-7.72 7.72c-.78.78-.78 2.05 0 2.83L4 21.41c.39.39.9.59 1.41.59.51 0 1.02-.2 1.41-.59l7.78-7.78 2.81-2.81c.8-.78.8-2.07 0-2.86zM5.41 20L4 18.59l7.72-7.72 1.47 1.35L5.41 20z\"/>\n",
              "  </svg>\n",
              "      </button>\n",
              "      \n",
              "  <style>\n",
              "    .colab-df-container {\n",
              "      display:flex;\n",
              "      flex-wrap:wrap;\n",
              "      gap: 12px;\n",
              "    }\n",
              "\n",
              "    .colab-df-convert {\n",
              "      background-color: #E8F0FE;\n",
              "      border: none;\n",
              "      border-radius: 50%;\n",
              "      cursor: pointer;\n",
              "      display: none;\n",
              "      fill: #1967D2;\n",
              "      height: 32px;\n",
              "      padding: 0 0 0 0;\n",
              "      width: 32px;\n",
              "    }\n",
              "\n",
              "    .colab-df-convert:hover {\n",
              "      background-color: #E2EBFA;\n",
              "      box-shadow: 0px 1px 2px rgba(60, 64, 67, 0.3), 0px 1px 3px 1px rgba(60, 64, 67, 0.15);\n",
              "      fill: #174EA6;\n",
              "    }\n",
              "\n",
              "    [theme=dark] .colab-df-convert {\n",
              "      background-color: #3B4455;\n",
              "      fill: #D2E3FC;\n",
              "    }\n",
              "\n",
              "    [theme=dark] .colab-df-convert:hover {\n",
              "      background-color: #434B5C;\n",
              "      box-shadow: 0px 1px 3px 1px rgba(0, 0, 0, 0.15);\n",
              "      filter: drop-shadow(0px 1px 2px rgba(0, 0, 0, 0.3));\n",
              "      fill: #FFFFFF;\n",
              "    }\n",
              "  </style>\n",
              "\n",
              "      <script>\n",
              "        const buttonEl =\n",
              "          document.querySelector('#df-c3070afe-44d1-4b59-9146-ccca9543fe5d button.colab-df-convert');\n",
              "        buttonEl.style.display =\n",
              "          google.colab.kernel.accessAllowed ? 'block' : 'none';\n",
              "\n",
              "        async function convertToInteractive(key) {\n",
              "          const element = document.querySelector('#df-c3070afe-44d1-4b59-9146-ccca9543fe5d');\n",
              "          const dataTable =\n",
              "            await google.colab.kernel.invokeFunction('convertToInteractive',\n",
              "                                                     [key], {});\n",
              "          if (!dataTable) return;\n",
              "\n",
              "          const docLinkHtml = 'Like what you see? Visit the ' +\n",
              "            '<a target=\"_blank\" href=https://colab.research.google.com/notebooks/data_table.ipynb>data table notebook</a>'\n",
              "            + ' to learn more about interactive tables.';\n",
              "          element.innerHTML = '';\n",
              "          dataTable['output_type'] = 'display_data';\n",
              "          await google.colab.output.renderOutput(dataTable, element);\n",
              "          const docLink = document.createElement('div');\n",
              "          docLink.innerHTML = docLinkHtml;\n",
              "          element.appendChild(docLink);\n",
              "        }\n",
              "      </script>\n",
              "    </div>\n",
              "  </div>\n",
              "  "
            ]
          },
          "metadata": {},
          "execution_count": 32
        }
      ],
      "source": [
        "Y_df_train_pred=clf_DDoS.predict(X_df_test)\n",
        "# Create confusion matrix\n",
        "pd.crosstab(Y_df_test, Y_df_train_pred, rownames=['Actual attacks'], colnames=['Predicted attacks'])"
      ]
    },
    {
      "cell_type": "code",
      "execution_count": 33,
      "id": "1fb3dbf8",
      "metadata": {
        "colab": {
          "base_uri": "https://localhost:8080/"
        },
        "id": "1fb3dbf8",
        "outputId": "4d690cf0-3366-4238-a216-8c1d43099db8"
      },
      "outputs": [
        {
          "output_type": "stream",
          "name": "stdout",
          "text": [
            "Accuracy: 0.99898 (+/- 0.00237)\n",
            "Precision: 0.99890 (+/- 0.00501)\n",
            "Recall: 0.99862 (+/- 0.00370)\n",
            "F-measure: 0.99876 (+/- 0.00287)\n"
          ]
        }
      ],
      "source": [
        "from sklearn.model_selection import cross_val_score\n",
        "from sklearn import metrics\n",
        "accuracy = cross_val_score(clf_DDoS, X_df_test, Y_df_test, cv=10, scoring='accuracy')\n",
        "print(\"Accuracy: %0.5f (+/- %0.5f)\" % (accuracy.mean(), accuracy.std() * 2))\n",
        "precision = cross_val_score(clf_DDoS, X_df_test, Y_df_test, cv=10, scoring='precision')\n",
        "print(\"Precision: %0.5f (+/- %0.5f)\" % (precision.mean(), precision.std() * 2))\n",
        "recall = cross_val_score(clf_DDoS, X_df_test, Y_df_test, cv=10, scoring='recall')\n",
        "print(\"Recall: %0.5f (+/- %0.5f)\" % (recall.mean(), recall.std() * 2))\n",
        "f = cross_val_score(clf_DDoS, X_df_test, Y_df_test, cv=10, scoring='f1')\n",
        "print(\"F-measure: %0.5f (+/- %0.5f)\" % (f.mean(), f.std() * 2))"
      ]
    },
    {
      "cell_type": "code",
      "source": [
        "import pickle\n",
        "with open('DDOS_classifier.pickle','wb') as f:\n",
        "  pickle.dump(clf_DDoS,f)"
      ],
      "metadata": {
        "id": "H-9rWU86babb"
      },
      "id": "H-9rWU86babb",
      "execution_count": 34,
      "outputs": []
    },
    {
      "cell_type": "code",
      "source": [
        "#lets plot our decision tree\n",
        "#from sklearn.tree import plot_tree\n",
        "#plt.figure(figsize=(20,10))\n",
        "#plot_tree(clf_DDoS,filled=True,feature_names=df_train.columns)\n",
        "#plt.savefig('DDOS-Decision-Tree')\n",
        "#plt.show()\n",
        "\n",
        "\n",
        "\n",
        "#from sklearn import tree\n",
        "#text_representation = tree.export_text(clf_DDoS)\n",
        "#print(text_representation)\n",
        "\n"
      ],
      "metadata": {
        "id": "SlgqjIpIT7I-"
      },
      "id": "SlgqjIpIT7I-",
      "execution_count": 35,
      "outputs": []
    },
    {
      "cell_type": "code",
      "execution_count": 36,
      "id": "2e5bcf8f",
      "metadata": {
        "id": "2e5bcf8f"
      },
      "outputs": [],
      "source": [
        "#pip install seaborn"
      ]
    },
    {
      "cell_type": "code",
      "execution_count": 37,
      "id": "0e3b1037",
      "metadata": {
        "id": "0e3b1037"
      },
      "outputs": [],
      "source": [
        "import seaborn as sns\n",
        "import matplotlib.pyplot as plt"
      ]
    },
    {
      "cell_type": "code",
      "execution_count": 38,
      "id": "72e43c29",
      "metadata": {
        "id": "72e43c29",
        "outputId": "f924bc91-bf3b-4ead-f1fc-7ddde7c1f9e8",
        "colab": {
          "base_uri": "https://localhost:8080/"
        }
      },
      "outputs": [
        {
          "output_type": "execute_result",
          "data": {
            "text/plain": [
              "['Bwd Packet Length Max',\n",
              " ' Bwd Packet Length Mean',\n",
              " ' Bwd Packet Length Std',\n",
              " ' Max Packet Length',\n",
              " ' Packet Length Mean',\n",
              " ' Packet Length Std',\n",
              " ' Average Packet Size',\n",
              " ' Avg Bwd Segment Size']"
            ]
          },
          "metadata": {},
          "execution_count": 38
        }
      ],
      "source": [
        "newcolname_DDoS"
      ]
    },
    {
      "cell_type": "code",
      "execution_count": 39,
      "id": "61f70f20",
      "metadata": {
        "id": "61f70f20"
      },
      "outputs": [],
      "source": [
        "x=newcolname_DDoS[1]\n",
        "y=newcolname_DDoS[3]"
      ]
    },
    {
      "cell_type": "code",
      "execution_count": 40,
      "id": "965376a7",
      "metadata": {
        "id": "965376a7",
        "outputId": "108587f7-b151-4fac-d2c9-31ea59192ff0",
        "colab": {
          "base_uri": "https://localhost:8080/",
          "height": 540
        }
      },
      "outputs": [
        {
          "output_type": "execute_result",
          "data": {
            "text/plain": [
              "        Destination Port   Flow Duration   Total Fwd Packets  \\\n",
              "39814                 80          871554                 3.0   \n",
              "25815                 80         1194516                 3.0   \n",
              "22410              14361         9311622                 1.0   \n",
              "27816                 80          816103                 3.0   \n",
              "5417                   0       112360825               100.0   \n",
              "...                  ...             ...                 ...   \n",
              "271                  443          189539                48.0   \n",
              "14906                 53           23864                 1.0   \n",
              "9787                  53             255                 2.0   \n",
              "13534                443         4264629                 5.0   \n",
              "39762                 80          562349                 3.0   \n",
              "\n",
              "        Total Backward Packets  Total Length of Fwd Packets  \\\n",
              "39814                      6.0                         26.0   \n",
              "25815                      6.0                         26.0   \n",
              "22410                      5.0                          6.0   \n",
              "27816                      5.0                         26.0   \n",
              "5417                       0.0                          0.0   \n",
              "...                        ...                          ...   \n",
              "271                       64.0                       1337.0   \n",
              "14906                      1.0                         41.0   \n",
              "9787                       2.0                         60.0   \n",
              "13534                      1.0                        135.0   \n",
              "39762                      4.0                         26.0   \n",
              "\n",
              "        Total Length of Bwd Packets   Fwd Packet Length Max  \\\n",
              "39814                       11607.0                    20.0   \n",
              "25815                       11607.0                    20.0   \n",
              "22410                          30.0                     6.0   \n",
              "27816                       11607.0                    20.0   \n",
              "5417                            0.0                     0.0   \n",
              "...                             ...                     ...   \n",
              "271                        105841.0                   570.0   \n",
              "14906                         105.0                    41.0   \n",
              "9787                          168.0                    30.0   \n",
              "13534                          46.0                    46.0   \n",
              "39762                       11607.0                    20.0   \n",
              "\n",
              "        Fwd Packet Length Min   Fwd Packet Length Mean  \\\n",
              "39814                     0.0                 8.666667   \n",
              "25815                     0.0                 8.666667   \n",
              "22410                     6.0                 6.000000   \n",
              "27816                     0.0                 8.666667   \n",
              "5417                      0.0                 0.000000   \n",
              "...                       ...                      ...   \n",
              "271                       0.0                27.854167   \n",
              "14906                    41.0                41.000000   \n",
              "9787                     30.0                30.000000   \n",
              "13534                     6.0                27.000000   \n",
              "39762                     0.0                 8.666667   \n",
              "\n",
              "        Fwd Packet Length Std  ...   min_seg_size_forward  Active Mean  \\\n",
              "39814               10.263203  ...                   20.0          0.0   \n",
              "25815               10.263203  ...                   20.0          0.0   \n",
              "22410                0.000000  ...                   20.0      33922.0   \n",
              "27816               10.263203  ...                   20.0          0.0   \n",
              "5417                 0.000000  ...                    0.0    3792518.0   \n",
              "...                       ...  ...                    ...          ...   \n",
              "271                109.108377  ...                   20.0          0.0   \n",
              "14906                0.000000  ...                   32.0          0.0   \n",
              "9787                 0.000000  ...                   32.0          0.0   \n",
              "13534               20.124612  ...                   20.0          0.0   \n",
              "39762               10.263203  ...                   20.0          0.0   \n",
              "\n",
              "        Active Std   Active Max   Active Min   Idle Mean     Idle Std  \\\n",
              "39814        0.000          0.0          0.0        0.00        0.000   \n",
              "25815        0.000          0.0          0.0        0.00        0.000   \n",
              "22410        0.000      33922.0      33922.0  9277700.00        0.000   \n",
              "27816        0.000          0.0          0.0        0.00        0.000   \n",
              "5417   3469117.345   11000000.0          3.0  9163512.25  3940645.364   \n",
              "...            ...          ...          ...         ...          ...   \n",
              "271          0.000          0.0          0.0        0.00        0.000   \n",
              "14906        0.000          0.0          0.0        0.00        0.000   \n",
              "9787         0.000          0.0          0.0        0.00        0.000   \n",
              "13534        0.000          0.0          0.0        0.00        0.000   \n",
              "39762        0.000          0.0          0.0        0.00        0.000   \n",
              "\n",
              "         Idle Max   Idle Min   Label  \n",
              "39814         0.0        0.0       1  \n",
              "25815         0.0        0.0       1  \n",
              "22410   9277700.0  9277700.0       0  \n",
              "27816         0.0        0.0       1  \n",
              "5417   17200000.0  5082235.0       0  \n",
              "...           ...        ...     ...  \n",
              "271           0.0        0.0       0  \n",
              "14906         0.0        0.0       0  \n",
              "9787          0.0        0.0       0  \n",
              "13534         0.0        0.0       0  \n",
              "39762         0.0        0.0       1  \n",
              "\n",
              "[1000 rows x 77 columns]"
            ],
            "text/html": [
              "\n",
              "  <div id=\"df-9a3b5f87-fe9e-4de8-b8a3-8493c6ad9f32\">\n",
              "    <div class=\"colab-df-container\">\n",
              "      <div>\n",
              "<style scoped>\n",
              "    .dataframe tbody tr th:only-of-type {\n",
              "        vertical-align: middle;\n",
              "    }\n",
              "\n",
              "    .dataframe tbody tr th {\n",
              "        vertical-align: top;\n",
              "    }\n",
              "\n",
              "    .dataframe thead th {\n",
              "        text-align: right;\n",
              "    }\n",
              "</style>\n",
              "<table border=\"1\" class=\"dataframe\">\n",
              "  <thead>\n",
              "    <tr style=\"text-align: right;\">\n",
              "      <th></th>\n",
              "      <th>Destination Port</th>\n",
              "      <th>Flow Duration</th>\n",
              "      <th>Total Fwd Packets</th>\n",
              "      <th>Total Backward Packets</th>\n",
              "      <th>Total Length of Fwd Packets</th>\n",
              "      <th>Total Length of Bwd Packets</th>\n",
              "      <th>Fwd Packet Length Max</th>\n",
              "      <th>Fwd Packet Length Min</th>\n",
              "      <th>Fwd Packet Length Mean</th>\n",
              "      <th>Fwd Packet Length Std</th>\n",
              "      <th>...</th>\n",
              "      <th>min_seg_size_forward</th>\n",
              "      <th>Active Mean</th>\n",
              "      <th>Active Std</th>\n",
              "      <th>Active Max</th>\n",
              "      <th>Active Min</th>\n",
              "      <th>Idle Mean</th>\n",
              "      <th>Idle Std</th>\n",
              "      <th>Idle Max</th>\n",
              "      <th>Idle Min</th>\n",
              "      <th>Label</th>\n",
              "    </tr>\n",
              "  </thead>\n",
              "  <tbody>\n",
              "    <tr>\n",
              "      <th>39814</th>\n",
              "      <td>80</td>\n",
              "      <td>871554</td>\n",
              "      <td>3.0</td>\n",
              "      <td>6.0</td>\n",
              "      <td>26.0</td>\n",
              "      <td>11607.0</td>\n",
              "      <td>20.0</td>\n",
              "      <td>0.0</td>\n",
              "      <td>8.666667</td>\n",
              "      <td>10.263203</td>\n",
              "      <td>...</td>\n",
              "      <td>20.0</td>\n",
              "      <td>0.0</td>\n",
              "      <td>0.000</td>\n",
              "      <td>0.0</td>\n",
              "      <td>0.0</td>\n",
              "      <td>0.00</td>\n",
              "      <td>0.000</td>\n",
              "      <td>0.0</td>\n",
              "      <td>0.0</td>\n",
              "      <td>1</td>\n",
              "    </tr>\n",
              "    <tr>\n",
              "      <th>25815</th>\n",
              "      <td>80</td>\n",
              "      <td>1194516</td>\n",
              "      <td>3.0</td>\n",
              "      <td>6.0</td>\n",
              "      <td>26.0</td>\n",
              "      <td>11607.0</td>\n",
              "      <td>20.0</td>\n",
              "      <td>0.0</td>\n",
              "      <td>8.666667</td>\n",
              "      <td>10.263203</td>\n",
              "      <td>...</td>\n",
              "      <td>20.0</td>\n",
              "      <td>0.0</td>\n",
              "      <td>0.000</td>\n",
              "      <td>0.0</td>\n",
              "      <td>0.0</td>\n",
              "      <td>0.00</td>\n",
              "      <td>0.000</td>\n",
              "      <td>0.0</td>\n",
              "      <td>0.0</td>\n",
              "      <td>1</td>\n",
              "    </tr>\n",
              "    <tr>\n",
              "      <th>22410</th>\n",
              "      <td>14361</td>\n",
              "      <td>9311622</td>\n",
              "      <td>1.0</td>\n",
              "      <td>5.0</td>\n",
              "      <td>6.0</td>\n",
              "      <td>30.0</td>\n",
              "      <td>6.0</td>\n",
              "      <td>6.0</td>\n",
              "      <td>6.000000</td>\n",
              "      <td>0.000000</td>\n",
              "      <td>...</td>\n",
              "      <td>20.0</td>\n",
              "      <td>33922.0</td>\n",
              "      <td>0.000</td>\n",
              "      <td>33922.0</td>\n",
              "      <td>33922.0</td>\n",
              "      <td>9277700.00</td>\n",
              "      <td>0.000</td>\n",
              "      <td>9277700.0</td>\n",
              "      <td>9277700.0</td>\n",
              "      <td>0</td>\n",
              "    </tr>\n",
              "    <tr>\n",
              "      <th>27816</th>\n",
              "      <td>80</td>\n",
              "      <td>816103</td>\n",
              "      <td>3.0</td>\n",
              "      <td>5.0</td>\n",
              "      <td>26.0</td>\n",
              "      <td>11607.0</td>\n",
              "      <td>20.0</td>\n",
              "      <td>0.0</td>\n",
              "      <td>8.666667</td>\n",
              "      <td>10.263203</td>\n",
              "      <td>...</td>\n",
              "      <td>20.0</td>\n",
              "      <td>0.0</td>\n",
              "      <td>0.000</td>\n",
              "      <td>0.0</td>\n",
              "      <td>0.0</td>\n",
              "      <td>0.00</td>\n",
              "      <td>0.000</td>\n",
              "      <td>0.0</td>\n",
              "      <td>0.0</td>\n",
              "      <td>1</td>\n",
              "    </tr>\n",
              "    <tr>\n",
              "      <th>5417</th>\n",
              "      <td>0</td>\n",
              "      <td>112360825</td>\n",
              "      <td>100.0</td>\n",
              "      <td>0.0</td>\n",
              "      <td>0.0</td>\n",
              "      <td>0.0</td>\n",
              "      <td>0.0</td>\n",
              "      <td>0.0</td>\n",
              "      <td>0.000000</td>\n",
              "      <td>0.000000</td>\n",
              "      <td>...</td>\n",
              "      <td>0.0</td>\n",
              "      <td>3792518.0</td>\n",
              "      <td>3469117.345</td>\n",
              "      <td>11000000.0</td>\n",
              "      <td>3.0</td>\n",
              "      <td>9163512.25</td>\n",
              "      <td>3940645.364</td>\n",
              "      <td>17200000.0</td>\n",
              "      <td>5082235.0</td>\n",
              "      <td>0</td>\n",
              "    </tr>\n",
              "    <tr>\n",
              "      <th>...</th>\n",
              "      <td>...</td>\n",
              "      <td>...</td>\n",
              "      <td>...</td>\n",
              "      <td>...</td>\n",
              "      <td>...</td>\n",
              "      <td>...</td>\n",
              "      <td>...</td>\n",
              "      <td>...</td>\n",
              "      <td>...</td>\n",
              "      <td>...</td>\n",
              "      <td>...</td>\n",
              "      <td>...</td>\n",
              "      <td>...</td>\n",
              "      <td>...</td>\n",
              "      <td>...</td>\n",
              "      <td>...</td>\n",
              "      <td>...</td>\n",
              "      <td>...</td>\n",
              "      <td>...</td>\n",
              "      <td>...</td>\n",
              "      <td>...</td>\n",
              "    </tr>\n",
              "    <tr>\n",
              "      <th>271</th>\n",
              "      <td>443</td>\n",
              "      <td>189539</td>\n",
              "      <td>48.0</td>\n",
              "      <td>64.0</td>\n",
              "      <td>1337.0</td>\n",
              "      <td>105841.0</td>\n",
              "      <td>570.0</td>\n",
              "      <td>0.0</td>\n",
              "      <td>27.854167</td>\n",
              "      <td>109.108377</td>\n",
              "      <td>...</td>\n",
              "      <td>20.0</td>\n",
              "      <td>0.0</td>\n",
              "      <td>0.000</td>\n",
              "      <td>0.0</td>\n",
              "      <td>0.0</td>\n",
              "      <td>0.00</td>\n",
              "      <td>0.000</td>\n",
              "      <td>0.0</td>\n",
              "      <td>0.0</td>\n",
              "      <td>0</td>\n",
              "    </tr>\n",
              "    <tr>\n",
              "      <th>14906</th>\n",
              "      <td>53</td>\n",
              "      <td>23864</td>\n",
              "      <td>1.0</td>\n",
              "      <td>1.0</td>\n",
              "      <td>41.0</td>\n",
              "      <td>105.0</td>\n",
              "      <td>41.0</td>\n",
              "      <td>41.0</td>\n",
              "      <td>41.000000</td>\n",
              "      <td>0.000000</td>\n",
              "      <td>...</td>\n",
              "      <td>32.0</td>\n",
              "      <td>0.0</td>\n",
              "      <td>0.000</td>\n",
              "      <td>0.0</td>\n",
              "      <td>0.0</td>\n",
              "      <td>0.00</td>\n",
              "      <td>0.000</td>\n",
              "      <td>0.0</td>\n",
              "      <td>0.0</td>\n",
              "      <td>0</td>\n",
              "    </tr>\n",
              "    <tr>\n",
              "      <th>9787</th>\n",
              "      <td>53</td>\n",
              "      <td>255</td>\n",
              "      <td>2.0</td>\n",
              "      <td>2.0</td>\n",
              "      <td>60.0</td>\n",
              "      <td>168.0</td>\n",
              "      <td>30.0</td>\n",
              "      <td>30.0</td>\n",
              "      <td>30.000000</td>\n",
              "      <td>0.000000</td>\n",
              "      <td>...</td>\n",
              "      <td>32.0</td>\n",
              "      <td>0.0</td>\n",
              "      <td>0.000</td>\n",
              "      <td>0.0</td>\n",
              "      <td>0.0</td>\n",
              "      <td>0.00</td>\n",
              "      <td>0.000</td>\n",
              "      <td>0.0</td>\n",
              "      <td>0.0</td>\n",
              "      <td>0</td>\n",
              "    </tr>\n",
              "    <tr>\n",
              "      <th>13534</th>\n",
              "      <td>443</td>\n",
              "      <td>4264629</td>\n",
              "      <td>5.0</td>\n",
              "      <td>1.0</td>\n",
              "      <td>135.0</td>\n",
              "      <td>46.0</td>\n",
              "      <td>46.0</td>\n",
              "      <td>6.0</td>\n",
              "      <td>27.000000</td>\n",
              "      <td>20.124612</td>\n",
              "      <td>...</td>\n",
              "      <td>20.0</td>\n",
              "      <td>0.0</td>\n",
              "      <td>0.000</td>\n",
              "      <td>0.0</td>\n",
              "      <td>0.0</td>\n",
              "      <td>0.00</td>\n",
              "      <td>0.000</td>\n",
              "      <td>0.0</td>\n",
              "      <td>0.0</td>\n",
              "      <td>0</td>\n",
              "    </tr>\n",
              "    <tr>\n",
              "      <th>39762</th>\n",
              "      <td>80</td>\n",
              "      <td>562349</td>\n",
              "      <td>3.0</td>\n",
              "      <td>4.0</td>\n",
              "      <td>26.0</td>\n",
              "      <td>11607.0</td>\n",
              "      <td>20.0</td>\n",
              "      <td>0.0</td>\n",
              "      <td>8.666667</td>\n",
              "      <td>10.263203</td>\n",
              "      <td>...</td>\n",
              "      <td>20.0</td>\n",
              "      <td>0.0</td>\n",
              "      <td>0.000</td>\n",
              "      <td>0.0</td>\n",
              "      <td>0.0</td>\n",
              "      <td>0.00</td>\n",
              "      <td>0.000</td>\n",
              "      <td>0.0</td>\n",
              "      <td>0.0</td>\n",
              "      <td>1</td>\n",
              "    </tr>\n",
              "  </tbody>\n",
              "</table>\n",
              "<p>1000 rows × 77 columns</p>\n",
              "</div>\n",
              "      <button class=\"colab-df-convert\" onclick=\"convertToInteractive('df-9a3b5f87-fe9e-4de8-b8a3-8493c6ad9f32')\"\n",
              "              title=\"Convert this dataframe to an interactive table.\"\n",
              "              style=\"display:none;\">\n",
              "        \n",
              "  <svg xmlns=\"http://www.w3.org/2000/svg\" height=\"24px\"viewBox=\"0 0 24 24\"\n",
              "       width=\"24px\">\n",
              "    <path d=\"M0 0h24v24H0V0z\" fill=\"none\"/>\n",
              "    <path d=\"M18.56 5.44l.94 2.06.94-2.06 2.06-.94-2.06-.94-.94-2.06-.94 2.06-2.06.94zm-11 1L8.5 8.5l.94-2.06 2.06-.94-2.06-.94L8.5 2.5l-.94 2.06-2.06.94zm10 10l.94 2.06.94-2.06 2.06-.94-2.06-.94-.94-2.06-.94 2.06-2.06.94z\"/><path d=\"M17.41 7.96l-1.37-1.37c-.4-.4-.92-.59-1.43-.59-.52 0-1.04.2-1.43.59L10.3 9.45l-7.72 7.72c-.78.78-.78 2.05 0 2.83L4 21.41c.39.39.9.59 1.41.59.51 0 1.02-.2 1.41-.59l7.78-7.78 2.81-2.81c.8-.78.8-2.07 0-2.86zM5.41 20L4 18.59l7.72-7.72 1.47 1.35L5.41 20z\"/>\n",
              "  </svg>\n",
              "      </button>\n",
              "      \n",
              "  <style>\n",
              "    .colab-df-container {\n",
              "      display:flex;\n",
              "      flex-wrap:wrap;\n",
              "      gap: 12px;\n",
              "    }\n",
              "\n",
              "    .colab-df-convert {\n",
              "      background-color: #E8F0FE;\n",
              "      border: none;\n",
              "      border-radius: 50%;\n",
              "      cursor: pointer;\n",
              "      display: none;\n",
              "      fill: #1967D2;\n",
              "      height: 32px;\n",
              "      padding: 0 0 0 0;\n",
              "      width: 32px;\n",
              "    }\n",
              "\n",
              "    .colab-df-convert:hover {\n",
              "      background-color: #E2EBFA;\n",
              "      box-shadow: 0px 1px 2px rgba(60, 64, 67, 0.3), 0px 1px 3px 1px rgba(60, 64, 67, 0.15);\n",
              "      fill: #174EA6;\n",
              "    }\n",
              "\n",
              "    [theme=dark] .colab-df-convert {\n",
              "      background-color: #3B4455;\n",
              "      fill: #D2E3FC;\n",
              "    }\n",
              "\n",
              "    [theme=dark] .colab-df-convert:hover {\n",
              "      background-color: #434B5C;\n",
              "      box-shadow: 0px 1px 3px 1px rgba(0, 0, 0, 0.15);\n",
              "      filter: drop-shadow(0px 1px 2px rgba(0, 0, 0, 0.3));\n",
              "      fill: #FFFFFF;\n",
              "    }\n",
              "  </style>\n",
              "\n",
              "      <script>\n",
              "        const buttonEl =\n",
              "          document.querySelector('#df-9a3b5f87-fe9e-4de8-b8a3-8493c6ad9f32 button.colab-df-convert');\n",
              "        buttonEl.style.display =\n",
              "          google.colab.kernel.accessAllowed ? 'block' : 'none';\n",
              "\n",
              "        async function convertToInteractive(key) {\n",
              "          const element = document.querySelector('#df-9a3b5f87-fe9e-4de8-b8a3-8493c6ad9f32');\n",
              "          const dataTable =\n",
              "            await google.colab.kernel.invokeFunction('convertToInteractive',\n",
              "                                                     [key], {});\n",
              "          if (!dataTable) return;\n",
              "\n",
              "          const docLinkHtml = 'Like what you see? Visit the ' +\n",
              "            '<a target=\"_blank\" href=https://colab.research.google.com/notebooks/data_table.ipynb>data table notebook</a>'\n",
              "            + ' to learn more about interactive tables.';\n",
              "          element.innerHTML = '';\n",
              "          dataTable['output_type'] = 'display_data';\n",
              "          await google.colab.output.renderOutput(dataTable, element);\n",
              "          const docLink = document.createElement('div');\n",
              "          docLink.innerHTML = docLinkHtml;\n",
              "          element.appendChild(docLink);\n",
              "        }\n",
              "      </script>\n",
              "    </div>\n",
              "  </div>\n",
              "  "
            ]
          },
          "metadata": {},
          "execution_count": 40
        }
      ],
      "source": [
        "df_2 =df_test.iloc[:1000]\n",
        "df_2"
      ]
    },
    {
      "cell_type": "code",
      "execution_count": 41,
      "id": "4eec6290",
      "metadata": {
        "id": "4eec6290",
        "outputId": "e6a2ef58-199b-438b-840e-abb30397ca4c",
        "colab": {
          "base_uri": "https://localhost:8080/",
          "height": 296
        }
      },
      "outputs": [
        {
          "output_type": "display_data",
          "data": {
            "text/plain": [
              "<Figure size 432x288 with 1 Axes>"
            ],
            "image/png": "[encoded data removed]"
          },
          "metadata": {
            "needs_background": "light"
          }
        },
        {
          "output_type": "display_data",
          "data": {
            "text/plain": [
              "<Figure size 432x288 with 0 Axes>"
            ]
          },
          "metadata": {}
        }
      ],
      "source": [
        "sns.scatterplot(data = df, x = x, y = y)\n",
        "plt.show()\n",
        "plt.savefig('Visualize-DestinationvsBwdPacketLength.jpg')"
      ]
    },
    {
      "cell_type": "code",
      "execution_count": 41,
      "id": "1813ccb8",
      "metadata": {
        "id": "1813ccb8"
      },
      "outputs": [],
      "source": [
        ""
      ]
    }
  ],
  "metadata": {
    "kernelspec": {
      "display_name": "Python 3",
      "language": "python",
      "name": "python3"
    },
    "language_info": {
      "codemirror_mode": {
        "name": "ipython",
        "version": 3
      },
      "file_extension": ".py",
      "mimetype": "text/x-python",
      "name": "python",
      "nbconvert_exporter": "python",
      "pygments_lexer": "ipython3",
      "version": "3.6.13"
    },
    "colab": {
      "name": "DDOS Desicion Trees.ipynb",
      "provenance": []
    }
  },
  "nbformat": 4,
  "nbformat_minor": 5
}