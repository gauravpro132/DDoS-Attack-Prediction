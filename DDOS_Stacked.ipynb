{
  "cells": [
    {
      "cell_type": "markdown",
      "source": [
        "SVM"
      ],
      "metadata": {
        "id": "JWRrvw7-CzBw"
      }
    },
    {
      "cell_type": "markdown",
      "source": [
        "# SVM"
      ],
      "metadata": {
        "id": "ftXxOBhvu587"
      }
    },
    {
      "cell_type": "code",
      "execution_count": 17,
      "metadata": {
        "id": "L_AUjxFkbpAb"
      },
      "outputs": [],
      "source": [
        "import numpy as np\n",
        "import pandas as pd\n",
        "import pickle\n",
        "import joblib\n",
        "import matplotlib.pyplot as plt\n",
        "from numpy import loadtxt\n",
        "from sklearn.model_selection import train_test_split\n",
        "from sklearn.preprocessing import StandardScaler\n",
        "from sklearn.svm import SVC\n",
        "from sklearn.metrics import confusion_matrix, classification_report\n",
        "from sklearn.metrics import accuracy_score\n",
        "from sklearn.metrics import f1_score\n",
        "from sklearn.metrics import precision_score\n",
        "from tqdm import tqdm\n",
        "from xgboost import plot_importance\n",
        "from sklearn.metrics import confusion_matrix\n",
        "from sklearn.metrics import recall_score\n"
      ]
    },
    {
      "cell_type": "code",
      "execution_count": 18,
      "metadata": {
        "id": "Z0JlQKT-dDrq",
        "colab": {
          "base_uri": "https://localhost:8080/",
          "height": 540
        },
        "outputId": "8e926d46-c516-4148-a77e-8b509fdf36bd"
      },
      "outputs": [
        {
          "output_type": "execute_result",
          "data": {
            "text/plain": [
              "         Destination Port   Flow Duration   Total Fwd Packets  \\\n",
              "0                   54865               3                   2   \n",
              "1                   55054             109                   1   \n",
              "2                   55055              52                   1   \n",
              "3                   46236              34                   1   \n",
              "4                   54863               3                   2   \n",
              "...                   ...             ...                 ...   \n",
              "225740              61374              61                   1   \n",
              "225741              61378              72                   1   \n",
              "225742              61375              75                   1   \n",
              "225743              61323              48                   2   \n",
              "225744              61326              68                   1   \n",
              "\n",
              "         Total Backward Packets  Total Length of Fwd Packets  \\\n",
              "0                             0                           12   \n",
              "1                             1                            6   \n",
              "2                             1                            6   \n",
              "3                             1                            6   \n",
              "4                             0                           12   \n",
              "...                         ...                          ...   \n",
              "225740                        1                            6   \n",
              "225741                        1                            6   \n",
              "225742                        1                            6   \n",
              "225743                        0                           12   \n",
              "225744                        1                            6   \n",
              "\n",
              "         Total Length of Bwd Packets   Fwd Packet Length Max  \\\n",
              "0                                  0                       6   \n",
              "1                                  6                       6   \n",
              "2                                  6                       6   \n",
              "3                                  6                       6   \n",
              "4                                  0                       6   \n",
              "...                              ...                     ...   \n",
              "225740                             6                       6   \n",
              "225741                             6                       6   \n",
              "225742                             6                       6   \n",
              "225743                             0                       6   \n",
              "225744                             6                       6   \n",
              "\n",
              "         Fwd Packet Length Min   Fwd Packet Length Mean  \\\n",
              "0                            6                      6.0   \n",
              "1                            6                      6.0   \n",
              "2                            6                      6.0   \n",
              "3                            6                      6.0   \n",
              "4                            6                      6.0   \n",
              "...                        ...                      ...   \n",
              "225740                       6                      6.0   \n",
              "225741                       6                      6.0   \n",
              "225742                       6                      6.0   \n",
              "225743                       6                      6.0   \n",
              "225744                       6                      6.0   \n",
              "\n",
              "         Fwd Packet Length Std  ...   min_seg_size_forward  Active Mean  \\\n",
              "0                          0.0  ...                     20          0.0   \n",
              "1                          0.0  ...                     20          0.0   \n",
              "2                          0.0  ...                     20          0.0   \n",
              "3                          0.0  ...                     20          0.0   \n",
              "4                          0.0  ...                     20          0.0   \n",
              "...                        ...  ...                    ...          ...   \n",
              "225740                     0.0  ...                     20          0.0   \n",
              "225741                     0.0  ...                     20          0.0   \n",
              "225742                     0.0  ...                     20          0.0   \n",
              "225743                     0.0  ...                     20          0.0   \n",
              "225744                     0.0  ...                     20          0.0   \n",
              "\n",
              "         Active Std   Active Max   Active Min  Idle Mean   Idle Std  \\\n",
              "0               0.0            0            0        0.0        0.0   \n",
              "1               0.0            0            0        0.0        0.0   \n",
              "2               0.0            0            0        0.0        0.0   \n",
              "3               0.0            0            0        0.0        0.0   \n",
              "4               0.0            0            0        0.0        0.0   \n",
              "...             ...          ...          ...        ...        ...   \n",
              "225740          0.0            0            0        0.0        0.0   \n",
              "225741          0.0            0            0        0.0        0.0   \n",
              "225742          0.0            0            0        0.0        0.0   \n",
              "225743          0.0            0            0        0.0        0.0   \n",
              "225744          0.0            0            0        0.0        0.0   \n",
              "\n",
              "         Idle Max   Idle Min   Label  \n",
              "0               0          0  BENIGN  \n",
              "1               0          0  BENIGN  \n",
              "2               0          0  BENIGN  \n",
              "3               0          0  BENIGN  \n",
              "4               0          0  BENIGN  \n",
              "...           ...        ...     ...  \n",
              "225740          0          0  BENIGN  \n",
              "225741          0          0  BENIGN  \n",
              "225742          0          0  BENIGN  \n",
              "225743          0          0  BENIGN  \n",
              "225744          0          0  BENIGN  \n",
              "\n",
              "[225745 rows x 79 columns]"
            ],
            "text/html": [
              "\n",
              "  <div id=\"df-7a11d8c4-ea7d-4d30-9500-c53c13bf7c0b\">\n",
              "    <div class=\"colab-df-container\">\n",
              "      <div>\n",
              "<style scoped>\n",
              "    .dataframe tbody tr th:only-of-type {\n",
              "        vertical-align: middle;\n",
              "    }\n",
              "\n",
              "    .dataframe tbody tr th {\n",
              "        vertical-align: top;\n",
              "    }\n",
              "\n",
              "    .dataframe thead th {\n",
              "        text-align: right;\n",
              "    }\n",
              "</style>\n",
              "<table border=\"1\" class=\"dataframe\">\n",
              "  <thead>\n",
              "    <tr style=\"text-align: right;\">\n",
              "      <th></th>\n",
              "      <th>Destination Port</th>\n",
              "      <th>Flow Duration</th>\n",
              "      <th>Total Fwd Packets</th>\n",
              "      <th>Total Backward Packets</th>\n",
              "      <th>Total Length of Fwd Packets</th>\n",
              "      <th>Total Length of Bwd Packets</th>\n",
              "      <th>Fwd Packet Length Max</th>\n",
              "      <th>Fwd Packet Length Min</th>\n",
              "      <th>Fwd Packet Length Mean</th>\n",
              "      <th>Fwd Packet Length Std</th>\n",
              "      <th>...</th>\n",
              "      <th>min_seg_size_forward</th>\n",
              "      <th>Active Mean</th>\n",
              "      <th>Active Std</th>\n",
              "      <th>Active Max</th>\n",
              "      <th>Active Min</th>\n",
              "      <th>Idle Mean</th>\n",
              "      <th>Idle Std</th>\n",
              "      <th>Idle Max</th>\n",
              "      <th>Idle Min</th>\n",
              "      <th>Label</th>\n",
              "    </tr>\n",
              "  </thead>\n",
              "  <tbody>\n",
              "    <tr>\n",
              "      <th>0</th>\n",
              "      <td>54865</td>\n",
              "      <td>3</td>\n",
              "      <td>2</td>\n",
              "      <td>0</td>\n",
              "      <td>12</td>\n",
              "      <td>0</td>\n",
              "      <td>6</td>\n",
              "      <td>6</td>\n",
              "      <td>6.0</td>\n",
              "      <td>0.0</td>\n",
              "      <td>...</td>\n",
              "      <td>20</td>\n",
              "      <td>0.0</td>\n",
              "      <td>0.0</td>\n",
              "      <td>0</td>\n",
              "      <td>0</td>\n",
              "      <td>0.0</td>\n",
              "      <td>0.0</td>\n",
              "      <td>0</td>\n",
              "      <td>0</td>\n",
              "      <td>BENIGN</td>\n",
              "    </tr>\n",
              "    <tr>\n",
              "      <th>1</th>\n",
              "      <td>55054</td>\n",
              "      <td>109</td>\n",
              "      <td>1</td>\n",
              "      <td>1</td>\n",
              "      <td>6</td>\n",
              "      <td>6</td>\n",
              "      <td>6</td>\n",
              "      <td>6</td>\n",
              "      <td>6.0</td>\n",
              "      <td>0.0</td>\n",
              "      <td>...</td>\n",
              "      <td>20</td>\n",
              "      <td>0.0</td>\n",
              "      <td>0.0</td>\n",
              "      <td>0</td>\n",
              "      <td>0</td>\n",
              "      <td>0.0</td>\n",
              "      <td>0.0</td>\n",
              "      <td>0</td>\n",
              "      <td>0</td>\n",
              "      <td>BENIGN</td>\n",
              "    </tr>\n",
              "    <tr>\n",
              "      <th>2</th>\n",
              "      <td>55055</td>\n",
              "      <td>52</td>\n",
              "      <td>1</td>\n",
              "      <td>1</td>\n",
              "      <td>6</td>\n",
              "      <td>6</td>\n",
              "      <td>6</td>\n",
              "      <td>6</td>\n",
              "      <td>6.0</td>\n",
              "      <td>0.0</td>\n",
              "      <td>...</td>\n",
              "      <td>20</td>\n",
              "      <td>0.0</td>\n",
              "      <td>0.0</td>\n",
              "      <td>0</td>\n",
              "      <td>0</td>\n",
              "      <td>0.0</td>\n",
              "      <td>0.0</td>\n",
              "      <td>0</td>\n",
              "      <td>0</td>\n",
              "      <td>BENIGN</td>\n",
              "    </tr>\n",
              "    <tr>\n",
              "      <th>3</th>\n",
              "      <td>46236</td>\n",
              "      <td>34</td>\n",
              "      <td>1</td>\n",
              "      <td>1</td>\n",
              "      <td>6</td>\n",
              "      <td>6</td>\n",
              "      <td>6</td>\n",
              "      <td>6</td>\n",
              "      <td>6.0</td>\n",
              "      <td>0.0</td>\n",
              "      <td>...</td>\n",
              "      <td>20</td>\n",
              "      <td>0.0</td>\n",
              "      <td>0.0</td>\n",
              "      <td>0</td>\n",
              "      <td>0</td>\n",
              "      <td>0.0</td>\n",
              "      <td>0.0</td>\n",
              "      <td>0</td>\n",
              "      <td>0</td>\n",
              "      <td>BENIGN</td>\n",
              "    </tr>\n",
              "    <tr>\n",
              "      <th>4</th>\n",
              "      <td>54863</td>\n",
              "      <td>3</td>\n",
              "      <td>2</td>\n",
              "      <td>0</td>\n",
              "      <td>12</td>\n",
              "      <td>0</td>\n",
              "      <td>6</td>\n",
              "      <td>6</td>\n",
              "      <td>6.0</td>\n",
              "      <td>0.0</td>\n",
              "      <td>...</td>\n",
              "      <td>20</td>\n",
              "      <td>0.0</td>\n",
              "      <td>0.0</td>\n",
              "      <td>0</td>\n",
              "      <td>0</td>\n",
              "      <td>0.0</td>\n",
              "      <td>0.0</td>\n",
              "      <td>0</td>\n",
              "      <td>0</td>\n",
              "      <td>BENIGN</td>\n",
              "    </tr>\n",
              "    <tr>\n",
              "      <th>...</th>\n",
              "      <td>...</td>\n",
              "      <td>...</td>\n",
              "      <td>...</td>\n",
              "      <td>...</td>\n",
              "      <td>...</td>\n",
              "      <td>...</td>\n",
              "      <td>...</td>\n",
              "      <td>...</td>\n",
              "      <td>...</td>\n",
              "      <td>...</td>\n",
              "      <td>...</td>\n",
              "      <td>...</td>\n",
              "      <td>...</td>\n",
              "      <td>...</td>\n",
              "      <td>...</td>\n",
              "      <td>...</td>\n",
              "      <td>...</td>\n",
              "      <td>...</td>\n",
              "      <td>...</td>\n",
              "      <td>...</td>\n",
              "      <td>...</td>\n",
              "    </tr>\n",
              "    <tr>\n",
              "      <th>225740</th>\n",
              "      <td>61374</td>\n",
              "      <td>61</td>\n",
              "      <td>1</td>\n",
              "      <td>1</td>\n",
              "      <td>6</td>\n",
              "      <td>6</td>\n",
              "      <td>6</td>\n",
              "      <td>6</td>\n",
              "      <td>6.0</td>\n",
              "      <td>0.0</td>\n",
              "      <td>...</td>\n",
              "      <td>20</td>\n",
              "      <td>0.0</td>\n",
              "      <td>0.0</td>\n",
              "      <td>0</td>\n",
              "      <td>0</td>\n",
              "      <td>0.0</td>\n",
              "      <td>0.0</td>\n",
              "      <td>0</td>\n",
              "      <td>0</td>\n",
              "      <td>BENIGN</td>\n",
              "    </tr>\n",
              "    <tr>\n",
              "      <th>225741</th>\n",
              "      <td>61378</td>\n",
              "      <td>72</td>\n",
              "      <td>1</td>\n",
              "      <td>1</td>\n",
              "      <td>6</td>\n",
              "      <td>6</td>\n",
              "      <td>6</td>\n",
              "      <td>6</td>\n",
              "      <td>6.0</td>\n",
              "      <td>0.0</td>\n",
              "      <td>...</td>\n",
              "      <td>20</td>\n",
              "      <td>0.0</td>\n",
              "      <td>0.0</td>\n",
              "      <td>0</td>\n",
              "      <td>0</td>\n",
              "      <td>0.0</td>\n",
              "      <td>0.0</td>\n",
              "      <td>0</td>\n",
              "      <td>0</td>\n",
              "      <td>BENIGN</td>\n",
              "    </tr>\n",
              "    <tr>\n",
              "      <th>225742</th>\n",
              "      <td>61375</td>\n",
              "      <td>75</td>\n",
              "      <td>1</td>\n",
              "      <td>1</td>\n",
              "      <td>6</td>\n",
              "      <td>6</td>\n",
              "      <td>6</td>\n",
              "      <td>6</td>\n",
              "      <td>6.0</td>\n",
              "      <td>0.0</td>\n",
              "      <td>...</td>\n",
              "      <td>20</td>\n",
              "      <td>0.0</td>\n",
              "      <td>0.0</td>\n",
              "      <td>0</td>\n",
              "      <td>0</td>\n",
              "      <td>0.0</td>\n",
              "      <td>0.0</td>\n",
              "      <td>0</td>\n",
              "      <td>0</td>\n",
              "      <td>BENIGN</td>\n",
              "    </tr>\n",
              "    <tr>\n",
              "      <th>225743</th>\n",
              "      <td>61323</td>\n",
              "      <td>48</td>\n",
              "      <td>2</td>\n",
              "      <td>0</td>\n",
              "      <td>12</td>\n",
              "      <td>0</td>\n",
              "      <td>6</td>\n",
              "      <td>6</td>\n",
              "      <td>6.0</td>\n",
              "      <td>0.0</td>\n",
              "      <td>...</td>\n",
              "      <td>20</td>\n",
              "      <td>0.0</td>\n",
              "      <td>0.0</td>\n",
              "      <td>0</td>\n",
              "      <td>0</td>\n",
              "      <td>0.0</td>\n",
              "      <td>0.0</td>\n",
              "      <td>0</td>\n",
              "      <td>0</td>\n",
              "      <td>BENIGN</td>\n",
              "    </tr>\n",
              "    <tr>\n",
              "      <th>225744</th>\n",
              "      <td>61326</td>\n",
              "      <td>68</td>\n",
              "      <td>1</td>\n",
              "      <td>1</td>\n",
              "      <td>6</td>\n",
              "      <td>6</td>\n",
              "      <td>6</td>\n",
              "      <td>6</td>\n",
              "      <td>6.0</td>\n",
              "      <td>0.0</td>\n",
              "      <td>...</td>\n",
              "      <td>20</td>\n",
              "      <td>0.0</td>\n",
              "      <td>0.0</td>\n",
              "      <td>0</td>\n",
              "      <td>0</td>\n",
              "      <td>0.0</td>\n",
              "      <td>0.0</td>\n",
              "      <td>0</td>\n",
              "      <td>0</td>\n",
              "      <td>BENIGN</td>\n",
              "    </tr>\n",
              "  </tbody>\n",
              "</table>\n",
              "<p>225745 rows × 79 columns</p>\n",
              "</div>\n",
              "      <button class=\"colab-df-convert\" onclick=\"convertToInteractive('df-7a11d8c4-ea7d-4d30-9500-c53c13bf7c0b')\"\n",
              "              title=\"Convert this dataframe to an interactive table.\"\n",
              "              style=\"display:none;\">\n",
              "        \n",
              "  <svg xmlns=\"http://www.w3.org/2000/svg\" height=\"24px\"viewBox=\"0 0 24 24\"\n",
              "       width=\"24px\">\n",
              "    <path d=\"M0 0h24v24H0V0z\" fill=\"none\"/>\n",
              "    <path d=\"M18.56 5.44l.94 2.06.94-2.06 2.06-.94-2.06-.94-.94-2.06-.94 2.06-2.06.94zm-11 1L8.5 8.5l.94-2.06 2.06-.94-2.06-.94L8.5 2.5l-.94 2.06-2.06.94zm10 10l.94 2.06.94-2.06 2.06-.94-2.06-.94-.94-2.06-.94 2.06-2.06.94z\"/><path d=\"M17.41 7.96l-1.37-1.37c-.4-.4-.92-.59-1.43-.59-.52 0-1.04.2-1.43.59L10.3 9.45l-7.72 7.72c-.78.78-.78 2.05 0 2.83L4 21.41c.39.39.9.59 1.41.59.51 0 1.02-.2 1.41-.59l7.78-7.78 2.81-2.81c.8-.78.8-2.07 0-2.86zM5.41 20L4 18.59l7.72-7.72 1.47 1.35L5.41 20z\"/>\n",
              "  </svg>\n",
              "      </button>\n",
              "      \n",
              "  <style>\n",
              "    .colab-df-container {\n",
              "      display:flex;\n",
              "      flex-wrap:wrap;\n",
              "      gap: 12px;\n",
              "    }\n",
              "\n",
              "    .colab-df-convert {\n",
              "      background-color: #E8F0FE;\n",
              "      border: none;\n",
              "      border-radius: 50%;\n",
              "      cursor: pointer;\n",
              "      display: none;\n",
              "      fill: #1967D2;\n",
              "      height: 32px;\n",
              "      padding: 0 0 0 0;\n",
              "      width: 32px;\n",
              "    }\n",
              "\n",
              "    .colab-df-convert:hover {\n",
              "      background-color: #E2EBFA;\n",
              "      box-shadow: 0px 1px 2px rgba(60, 64, 67, 0.3), 0px 1px 3px 1px rgba(60, 64, 67, 0.15);\n",
              "      fill: #174EA6;\n",
              "    }\n",
              "\n",
              "    [theme=dark] .colab-df-convert {\n",
              "      background-color: #3B4455;\n",
              "      fill: #D2E3FC;\n",
              "    }\n",
              "\n",
              "    [theme=dark] .colab-df-convert:hover {\n",
              "      background-color: #434B5C;\n",
              "      box-shadow: 0px 1px 3px 1px rgba(0, 0, 0, 0.15);\n",
              "      filter: drop-shadow(0px 1px 2px rgba(0, 0, 0, 0.3));\n",
              "      fill: #FFFFFF;\n",
              "    }\n",
              "  </style>\n",
              "\n",
              "      <script>\n",
              "        const buttonEl =\n",
              "          document.querySelector('#df-7a11d8c4-ea7d-4d30-9500-c53c13bf7c0b button.colab-df-convert');\n",
              "        buttonEl.style.display =\n",
              "          google.colab.kernel.accessAllowed ? 'block' : 'none';\n",
              "\n",
              "        async function convertToInteractive(key) {\n",
              "          const element = document.querySelector('#df-7a11d8c4-ea7d-4d30-9500-c53c13bf7c0b');\n",
              "          const dataTable =\n",
              "            await google.colab.kernel.invokeFunction('convertToInteractive',\n",
              "                                                     [key], {});\n",
              "          if (!dataTable) return;\n",
              "\n",
              "          const docLinkHtml = 'Like what you see? Visit the ' +\n",
              "            '<a target=\"_blank\" href=https://colab.research.google.com/notebooks/data_table.ipynb>data table notebook</a>'\n",
              "            + ' to learn more about interactive tables.';\n",
              "          element.innerHTML = '';\n",
              "          dataTable['output_type'] = 'display_data';\n",
              "          await google.colab.output.renderOutput(dataTable, element);\n",
              "          const docLink = document.createElement('div');\n",
              "          docLink.innerHTML = docLinkHtml;\n",
              "          element.appendChild(docLink);\n",
              "        }\n",
              "      </script>\n",
              "    </div>\n",
              "  </div>\n",
              "  "
            ]
          },
          "metadata": {},
          "execution_count": 18
        }
      ],
      "source": [
        "df = pd.read_csv('drive/MyDrive/Dataset/finalddos.csv')\n",
        "df"
      ]
    },
    {
      "cell_type": "code",
      "source": [
        "# Modify dataset\n",
        "df = df[[' Destination Port', 'Total Length of Fwd Packets', ' Bwd Packet Length Std', ' Flow IAT Min', 'Fwd IAT Total', ' Bwd Packets/s', 'Init_Win_bytes_forward', ' Init_Win_bytes_backward',' Label']]\n",
        "df.head()"
      ],
      "metadata": {
        "colab": {
          "base_uri": "https://localhost:8080/",
          "height": 206
        },
        "id": "YCaLpMtfNRik",
        "outputId": "73418c94-042a-4724-f9dd-0d9e479e2a60"
      },
      "execution_count": 19,
      "outputs": [
        {
          "output_type": "execute_result",
          "data": {
            "text/plain": [
              "    Destination Port  Total Length of Fwd Packets   Bwd Packet Length Std  \\\n",
              "0              54865                           12                     0.0   \n",
              "1              55054                            6                     0.0   \n",
              "2              55055                            6                     0.0   \n",
              "3              46236                            6                     0.0   \n",
              "4              54863                           12                     0.0   \n",
              "\n",
              "    Flow IAT Min  Fwd IAT Total   Bwd Packets/s  Init_Win_bytes_forward  \\\n",
              "0              3              3        0.000000                      33   \n",
              "1            109              0     9174.311927                      29   \n",
              "2             52              0    19230.769230                      29   \n",
              "3             34              0    29411.764710                      31   \n",
              "4              3              3        0.000000                      32   \n",
              "\n",
              "    Init_Win_bytes_backward   Label  \n",
              "0                        -1  BENIGN  \n",
              "1                       256  BENIGN  \n",
              "2                       256  BENIGN  \n",
              "3                       329  BENIGN  \n",
              "4                        -1  BENIGN  "
            ],
            "text/html": [
              "\n",
              "  <div id=\"df-933be2fc-8f8a-4536-90ea-68f4d7a00bc4\">\n",
              "    <div class=\"colab-df-container\">\n",
              "      <div>\n",
              "<style scoped>\n",
              "    .dataframe tbody tr th:only-of-type {\n",
              "        vertical-align: middle;\n",
              "    }\n",
              "\n",
              "    .dataframe tbody tr th {\n",
              "        vertical-align: top;\n",
              "    }\n",
              "\n",
              "    .dataframe thead th {\n",
              "        text-align: right;\n",
              "    }\n",
              "</style>\n",
              "<table border=\"1\" class=\"dataframe\">\n",
              "  <thead>\n",
              "    <tr style=\"text-align: right;\">\n",
              "      <th></th>\n",
              "      <th>Destination Port</th>\n",
              "      <th>Total Length of Fwd Packets</th>\n",
              "      <th>Bwd Packet Length Std</th>\n",
              "      <th>Flow IAT Min</th>\n",
              "      <th>Fwd IAT Total</th>\n",
              "      <th>Bwd Packets/s</th>\n",
              "      <th>Init_Win_bytes_forward</th>\n",
              "      <th>Init_Win_bytes_backward</th>\n",
              "      <th>Label</th>\n",
              "    </tr>\n",
              "  </thead>\n",
              "  <tbody>\n",
              "    <tr>\n",
              "      <th>0</th>\n",
              "      <td>54865</td>\n",
              "      <td>12</td>\n",
              "      <td>0.0</td>\n",
              "      <td>3</td>\n",
              "      <td>3</td>\n",
              "      <td>0.000000</td>\n",
              "      <td>33</td>\n",
              "      <td>-1</td>\n",
              "      <td>BENIGN</td>\n",
              "    </tr>\n",
              "    <tr>\n",
              "      <th>1</th>\n",
              "      <td>55054</td>\n",
              "      <td>6</td>\n",
              "      <td>0.0</td>\n",
              "      <td>109</td>\n",
              "      <td>0</td>\n",
              "      <td>9174.311927</td>\n",
              "      <td>29</td>\n",
              "      <td>256</td>\n",
              "      <td>BENIGN</td>\n",
              "    </tr>\n",
              "    <tr>\n",
              "      <th>2</th>\n",
              "      <td>55055</td>\n",
              "      <td>6</td>\n",
              "      <td>0.0</td>\n",
              "      <td>52</td>\n",
              "      <td>0</td>\n",
              "      <td>19230.769230</td>\n",
              "      <td>29</td>\n",
              "      <td>256</td>\n",
              "      <td>BENIGN</td>\n",
              "    </tr>\n",
              "    <tr>\n",
              "      <th>3</th>\n",
              "      <td>46236</td>\n",
              "      <td>6</td>\n",
              "      <td>0.0</td>\n",
              "      <td>34</td>\n",
              "      <td>0</td>\n",
              "      <td>29411.764710</td>\n",
              "      <td>31</td>\n",
              "      <td>329</td>\n",
              "      <td>BENIGN</td>\n",
              "    </tr>\n",
              "    <tr>\n",
              "      <th>4</th>\n",
              "      <td>54863</td>\n",
              "      <td>12</td>\n",
              "      <td>0.0</td>\n",
              "      <td>3</td>\n",
              "      <td>3</td>\n",
              "      <td>0.000000</td>\n",
              "      <td>32</td>\n",
              "      <td>-1</td>\n",
              "      <td>BENIGN</td>\n",
              "    </tr>\n",
              "  </tbody>\n",
              "</table>\n",
              "</div>\n",
              "      <button class=\"colab-df-convert\" onclick=\"convertToInteractive('df-933be2fc-8f8a-4536-90ea-68f4d7a00bc4')\"\n",
              "              title=\"Convert this dataframe to an interactive table.\"\n",
              "              style=\"display:none;\">\n",
              "        \n",
              "  <svg xmlns=\"http://www.w3.org/2000/svg\" height=\"24px\"viewBox=\"0 0 24 24\"\n",
              "       width=\"24px\">\n",
              "    <path d=\"M0 0h24v24H0V0z\" fill=\"none\"/>\n",
              "    <path d=\"M18.56 5.44l.94 2.06.94-2.06 2.06-.94-2.06-.94-.94-2.06-.94 2.06-2.06.94zm-11 1L8.5 8.5l.94-2.06 2.06-.94-2.06-.94L8.5 2.5l-.94 2.06-2.06.94zm10 10l.94 2.06.94-2.06 2.06-.94-2.06-.94-.94-2.06-.94 2.06-2.06.94z\"/><path d=\"M17.41 7.96l-1.37-1.37c-.4-.4-.92-.59-1.43-.59-.52 0-1.04.2-1.43.59L10.3 9.45l-7.72 7.72c-.78.78-.78 2.05 0 2.83L4 21.41c.39.39.9.59 1.41.59.51 0 1.02-.2 1.41-.59l7.78-7.78 2.81-2.81c.8-.78.8-2.07 0-2.86zM5.41 20L4 18.59l7.72-7.72 1.47 1.35L5.41 20z\"/>\n",
              "  </svg>\n",
              "      </button>\n",
              "      \n",
              "  <style>\n",
              "    .colab-df-container {\n",
              "      display:flex;\n",
              "      flex-wrap:wrap;\n",
              "      gap: 12px;\n",
              "    }\n",
              "\n",
              "    .colab-df-convert {\n",
              "      background-color: #E8F0FE;\n",
              "      border: none;\n",
              "      border-radius: 50%;\n",
              "      cursor: pointer;\n",
              "      display: none;\n",
              "      fill: #1967D2;\n",
              "      height: 32px;\n",
              "      padding: 0 0 0 0;\n",
              "      width: 32px;\n",
              "    }\n",
              "\n",
              "    .colab-df-convert:hover {\n",
              "      background-color: #E2EBFA;\n",
              "      box-shadow: 0px 1px 2px rgba(60, 64, 67, 0.3), 0px 1px 3px 1px rgba(60, 64, 67, 0.15);\n",
              "      fill: #174EA6;\n",
              "    }\n",
              "\n",
              "    [theme=dark] .colab-df-convert {\n",
              "      background-color: #3B4455;\n",
              "      fill: #D2E3FC;\n",
              "    }\n",
              "\n",
              "    [theme=dark] .colab-df-convert:hover {\n",
              "      background-color: #434B5C;\n",
              "      box-shadow: 0px 1px 3px 1px rgba(0, 0, 0, 0.15);\n",
              "      filter: drop-shadow(0px 1px 2px rgba(0, 0, 0, 0.3));\n",
              "      fill: #FFFFFF;\n",
              "    }\n",
              "  </style>\n",
              "\n",
              "      <script>\n",
              "        const buttonEl =\n",
              "          document.querySelector('#df-933be2fc-8f8a-4536-90ea-68f4d7a00bc4 button.colab-df-convert');\n",
              "        buttonEl.style.display =\n",
              "          google.colab.kernel.accessAllowed ? 'block' : 'none';\n",
              "\n",
              "        async function convertToInteractive(key) {\n",
              "          const element = document.querySelector('#df-933be2fc-8f8a-4536-90ea-68f4d7a00bc4');\n",
              "          const dataTable =\n",
              "            await google.colab.kernel.invokeFunction('convertToInteractive',\n",
              "                                                     [key], {});\n",
              "          if (!dataTable) return;\n",
              "\n",
              "          const docLinkHtml = 'Like what you see? Visit the ' +\n",
              "            '<a target=\"_blank\" href=https://colab.research.google.com/notebooks/data_table.ipynb>data table notebook</a>'\n",
              "            + ' to learn more about interactive tables.';\n",
              "          element.innerHTML = '';\n",
              "          dataTable['output_type'] = 'display_data';\n",
              "          await google.colab.output.renderOutput(dataTable, element);\n",
              "          const docLink = document.createElement('div');\n",
              "          docLink.innerHTML = docLinkHtml;\n",
              "          element.appendChild(docLink);\n",
              "        }\n",
              "      </script>\n",
              "    </div>\n",
              "  </div>\n",
              "  "
            ]
          },
          "metadata": {},
          "execution_count": 19
        }
      ]
    },
    {
      "cell_type": "code",
      "execution_count": 20,
      "metadata": {
        "id": "e6yXciC5slvZ"
      },
      "outputs": [],
      "source": [
        "# Splitting dataset into features and label\n",
        "X = df.drop(' Label', axis=1)\n",
        "y = df[' Label']"
      ]
    },
    {
      "cell_type": "code",
      "execution_count": 21,
      "metadata": {
        "id": "q_Hwuv5DdTP_"
      },
      "outputs": [],
      "source": [
        "# Splitting the dataset into the training set and the test set\n",
        "X_train, X_test, y_train, y_test = train_test_split(X, y, test_size=0.2, random_state=0)"
      ]
    },
    {
      "cell_type": "code",
      "execution_count": 22,
      "metadata": {
        "id": "7o_I7cc-dbf8"
      },
      "outputs": [],
      "source": [
        "X_train = X_train.replace((np.inf, -np.inf, np.nan), 0).reset_index(drop=True)\n",
        "X_test = X_test.replace((np.inf, -np.inf, np.nan), 0).reset_index(drop=True)\n",
        "# Feature scaling \n",
        "scaler = StandardScaler()\n",
        "X_train = scaler.fit_transform(X_train)\n",
        "X_test = scaler.transform(X_test)"
      ]
    },
    {
      "cell_type": "code",
      "execution_count": 23,
      "metadata": {
        "id": "n9tfdCmudhfQ",
        "colab": {
          "base_uri": "https://localhost:8080/"
        },
        "outputId": "a55dfb3c-f095-4e41-d820-466cf8a28fa0"
      },
      "outputs": [
        {
          "output_type": "execute_result",
          "data": {
            "text/plain": [
              "SVC(kernel='linear', random_state=0)"
            ]
          },
          "metadata": {},
          "execution_count": 23
        }
      ],
      "source": [
        "# Fitting SVM with the training set\n",
        "SVM = SVC(kernel='linear', random_state=0)\n",
        "SVM.fit(X_train, y_train)"
      ]
    },
    {
      "cell_type": "code",
      "execution_count": 24,
      "metadata": {
        "id": "bU9XYhoHdq_x"
      },
      "outputs": [],
      "source": [
        "# Testing the model by classifying the test set\n",
        "y_pred = SVM.predict(X_test)"
      ]
    },
    {
      "cell_type": "code",
      "execution_count": 25,
      "metadata": {
        "id": "u70VroGPdwqg"
      },
      "outputs": [],
      "source": [
        "# Creating confusion matrix for evaluation\n",
        "cm = confusion_matrix(y_test, y_pred)\n",
        "cr = classification_report(y_test, y_pred)"
      ]
    },
    {
      "cell_type": "code",
      "execution_count": 26,
      "metadata": {
        "id": "py_95gXNd6Nh",
        "colab": {
          "base_uri": "https://localhost:8080/"
        },
        "outputId": "cea85e5c-75e8-4365-d323-2f367c840500"
      },
      "outputs": [
        {
          "output_type": "stream",
          "name": "stdout",
          "text": [
            "[[18506   983]\n",
            " [   38 25622]]\n",
            "              precision    recall  f1-score   support\n",
            "\n",
            "      BENIGN       1.00      0.95      0.97     19489\n",
            "        DDoS       0.96      1.00      0.98     25660\n",
            "\n",
            "    accuracy                           0.98     45149\n",
            "   macro avg       0.98      0.97      0.98     45149\n",
            "weighted avg       0.98      0.98      0.98     45149\n",
            "\n"
          ]
        }
      ],
      "source": [
        "# Print out confusion matrix and report\n",
        "print(cm)\n",
        "print(cr)"
      ]
    },
    {
      "cell_type": "markdown",
      "metadata": {
        "id": "-6EAL7qtf3VA"
      },
      "source": [
        "NB"
      ]
    },
    {
      "cell_type": "markdown",
      "source": [
        "# NB"
      ],
      "metadata": {
        "id": "stblewQLvE06"
      }
    },
    {
      "cell_type": "code",
      "execution_count": 27,
      "metadata": {
        "id": "0s9GPzXlf6Db"
      },
      "outputs": [],
      "source": [
        "import numpy as np\n",
        "import pandas as pd\n",
        "import matplotlib.pyplot as plt\n",
        "from xgboost import plot_importance\n",
        "from numpy import loadtxt\n",
        "from sklearn.model_selection import train_test_split\n",
        "from sklearn.metrics import accuracy_score\n",
        "from sklearn.metrics import f1_score\n",
        "from sklearn.metrics import precision_score\n",
        "import pickle\n",
        "from tqdm import tqdm\n",
        "from sklearn.metrics import confusion_matrix, classification_report\n",
        "from sklearn.naive_bayes import GaussianNB\n",
        "from sklearn.metrics import recall_score\n",
        "from sklearn.naive_bayes import GaussianNB\n",
        "from sklearn.preprocessing import StandardScaler"
      ]
    },
    {
      "cell_type": "code",
      "execution_count": 28,
      "metadata": {
        "id": "ASwQ7lVdf7Ui",
        "colab": {
          "base_uri": "https://localhost:8080/",
          "height": 206
        },
        "outputId": "a72741c2-6bd7-4830-da4f-1c83ca4951cb"
      },
      "outputs": [
        {
          "output_type": "execute_result",
          "data": {
            "text/plain": [
              "    Destination Port  Total Length of Fwd Packets   Bwd Packet Length Std  \\\n",
              "0              54865                           12                     0.0   \n",
              "1              55054                            6                     0.0   \n",
              "2              55055                            6                     0.0   \n",
              "3              46236                            6                     0.0   \n",
              "4              54863                           12                     0.0   \n",
              "\n",
              "    Flow IAT Min  Fwd IAT Total   Bwd Packets/s  Init_Win_bytes_forward  \\\n",
              "0              3              3        0.000000                      33   \n",
              "1            109              0     9174.311927                      29   \n",
              "2             52              0    19230.769230                      29   \n",
              "3             34              0    29411.764710                      31   \n",
              "4              3              3        0.000000                      32   \n",
              "\n",
              "    Init_Win_bytes_backward   Label  \n",
              "0                        -1  BENIGN  \n",
              "1                       256  BENIGN  \n",
              "2                       256  BENIGN  \n",
              "3                       329  BENIGN  \n",
              "4                        -1  BENIGN  "
            ],
            "text/html": [
              "\n",
              "  <div id=\"df-cbc33fd4-d663-40e2-af03-fb57228b6ad9\">\n",
              "    <div class=\"colab-df-container\">\n",
              "      <div>\n",
              "<style scoped>\n",
              "    .dataframe tbody tr th:only-of-type {\n",
              "        vertical-align: middle;\n",
              "    }\n",
              "\n",
              "    .dataframe tbody tr th {\n",
              "        vertical-align: top;\n",
              "    }\n",
              "\n",
              "    .dataframe thead th {\n",
              "        text-align: right;\n",
              "    }\n",
              "</style>\n",
              "<table border=\"1\" class=\"dataframe\">\n",
              "  <thead>\n",
              "    <tr style=\"text-align: right;\">\n",
              "      <th></th>\n",
              "      <th>Destination Port</th>\n",
              "      <th>Total Length of Fwd Packets</th>\n",
              "      <th>Bwd Packet Length Std</th>\n",
              "      <th>Flow IAT Min</th>\n",
              "      <th>Fwd IAT Total</th>\n",
              "      <th>Bwd Packets/s</th>\n",
              "      <th>Init_Win_bytes_forward</th>\n",
              "      <th>Init_Win_bytes_backward</th>\n",
              "      <th>Label</th>\n",
              "    </tr>\n",
              "  </thead>\n",
              "  <tbody>\n",
              "    <tr>\n",
              "      <th>0</th>\n",
              "      <td>54865</td>\n",
              "      <td>12</td>\n",
              "      <td>0.0</td>\n",
              "      <td>3</td>\n",
              "      <td>3</td>\n",
              "      <td>0.000000</td>\n",
              "      <td>33</td>\n",
              "      <td>-1</td>\n",
              "      <td>BENIGN</td>\n",
              "    </tr>\n",
              "    <tr>\n",
              "      <th>1</th>\n",
              "      <td>55054</td>\n",
              "      <td>6</td>\n",
              "      <td>0.0</td>\n",
              "      <td>109</td>\n",
              "      <td>0</td>\n",
              "      <td>9174.311927</td>\n",
              "      <td>29</td>\n",
              "      <td>256</td>\n",
              "      <td>BENIGN</td>\n",
              "    </tr>\n",
              "    <tr>\n",
              "      <th>2</th>\n",
              "      <td>55055</td>\n",
              "      <td>6</td>\n",
              "      <td>0.0</td>\n",
              "      <td>52</td>\n",
              "      <td>0</td>\n",
              "      <td>19230.769230</td>\n",
              "      <td>29</td>\n",
              "      <td>256</td>\n",
              "      <td>BENIGN</td>\n",
              "    </tr>\n",
              "    <tr>\n",
              "      <th>3</th>\n",
              "      <td>46236</td>\n",
              "      <td>6</td>\n",
              "      <td>0.0</td>\n",
              "      <td>34</td>\n",
              "      <td>0</td>\n",
              "      <td>29411.764710</td>\n",
              "      <td>31</td>\n",
              "      <td>329</td>\n",
              "      <td>BENIGN</td>\n",
              "    </tr>\n",
              "    <tr>\n",
              "      <th>4</th>\n",
              "      <td>54863</td>\n",
              "      <td>12</td>\n",
              "      <td>0.0</td>\n",
              "      <td>3</td>\n",
              "      <td>3</td>\n",
              "      <td>0.000000</td>\n",
              "      <td>32</td>\n",
              "      <td>-1</td>\n",
              "      <td>BENIGN</td>\n",
              "    </tr>\n",
              "  </tbody>\n",
              "</table>\n",
              "</div>\n",
              "      <button class=\"colab-df-convert\" onclick=\"convertToInteractive('df-cbc33fd4-d663-40e2-af03-fb57228b6ad9')\"\n",
              "              title=\"Convert this dataframe to an interactive table.\"\n",
              "              style=\"display:none;\">\n",
              "        \n",
              "  <svg xmlns=\"http://www.w3.org/2000/svg\" height=\"24px\"viewBox=\"0 0 24 24\"\n",
              "       width=\"24px\">\n",
              "    <path d=\"M0 0h24v24H0V0z\" fill=\"none\"/>\n",
              "    <path d=\"M18.56 5.44l.94 2.06.94-2.06 2.06-.94-2.06-.94-.94-2.06-.94 2.06-2.06.94zm-11 1L8.5 8.5l.94-2.06 2.06-.94-2.06-.94L8.5 2.5l-.94 2.06-2.06.94zm10 10l.94 2.06.94-2.06 2.06-.94-2.06-.94-.94-2.06-.94 2.06-2.06.94z\"/><path d=\"M17.41 7.96l-1.37-1.37c-.4-.4-.92-.59-1.43-.59-.52 0-1.04.2-1.43.59L10.3 9.45l-7.72 7.72c-.78.78-.78 2.05 0 2.83L4 21.41c.39.39.9.59 1.41.59.51 0 1.02-.2 1.41-.59l7.78-7.78 2.81-2.81c.8-.78.8-2.07 0-2.86zM5.41 20L4 18.59l7.72-7.72 1.47 1.35L5.41 20z\"/>\n",
              "  </svg>\n",
              "      </button>\n",
              "      \n",
              "  <style>\n",
              "    .colab-df-container {\n",
              "      display:flex;\n",
              "      flex-wrap:wrap;\n",
              "      gap: 12px;\n",
              "    }\n",
              "\n",
              "    .colab-df-convert {\n",
              "      background-color: #E8F0FE;\n",
              "      border: none;\n",
              "      border-radius: 50%;\n",
              "      cursor: pointer;\n",
              "      display: none;\n",
              "      fill: #1967D2;\n",
              "      height: 32px;\n",
              "      padding: 0 0 0 0;\n",
              "      width: 32px;\n",
              "    }\n",
              "\n",
              "    .colab-df-convert:hover {\n",
              "      background-color: #E2EBFA;\n",
              "      box-shadow: 0px 1px 2px rgba(60, 64, 67, 0.3), 0px 1px 3px 1px rgba(60, 64, 67, 0.15);\n",
              "      fill: #174EA6;\n",
              "    }\n",
              "\n",
              "    [theme=dark] .colab-df-convert {\n",
              "      background-color: #3B4455;\n",
              "      fill: #D2E3FC;\n",
              "    }\n",
              "\n",
              "    [theme=dark] .colab-df-convert:hover {\n",
              "      background-color: #434B5C;\n",
              "      box-shadow: 0px 1px 3px 1px rgba(0, 0, 0, 0.15);\n",
              "      filter: drop-shadow(0px 1px 2px rgba(0, 0, 0, 0.3));\n",
              "      fill: #FFFFFF;\n",
              "    }\n",
              "  </style>\n",
              "\n",
              "      <script>\n",
              "        const buttonEl =\n",
              "          document.querySelector('#df-cbc33fd4-d663-40e2-af03-fb57228b6ad9 button.colab-df-convert');\n",
              "        buttonEl.style.display =\n",
              "          google.colab.kernel.accessAllowed ? 'block' : 'none';\n",
              "\n",
              "        async function convertToInteractive(key) {\n",
              "          const element = document.querySelector('#df-cbc33fd4-d663-40e2-af03-fb57228b6ad9');\n",
              "          const dataTable =\n",
              "            await google.colab.kernel.invokeFunction('convertToInteractive',\n",
              "                                                     [key], {});\n",
              "          if (!dataTable) return;\n",
              "\n",
              "          const docLinkHtml = 'Like what you see? Visit the ' +\n",
              "            '<a target=\"_blank\" href=https://colab.research.google.com/notebooks/data_table.ipynb>data table notebook</a>'\n",
              "            + ' to learn more about interactive tables.';\n",
              "          element.innerHTML = '';\n",
              "          dataTable['output_type'] = 'display_data';\n",
              "          await google.colab.output.renderOutput(dataTable, element);\n",
              "          const docLink = document.createElement('div');\n",
              "          docLink.innerHTML = docLinkHtml;\n",
              "          element.appendChild(docLink);\n",
              "        }\n",
              "      </script>\n",
              "    </div>\n",
              "  </div>\n",
              "  "
            ]
          },
          "metadata": {},
          "execution_count": 28
        }
      ],
      "source": [
        "train = pd.read_csv('drive/MyDrive/Dataset/finalddos.csv')\n",
        "\n",
        "# Modify dataset\n",
        "train = train[[' Destination Port', 'Total Length of Fwd Packets', ' Bwd Packet Length Std', ' Flow IAT Min', 'Fwd IAT Total', ' Bwd Packets/s', 'Init_Win_bytes_forward', ' Init_Win_bytes_backward',' Label']]\n",
        "train.head()\n"
      ]
    },
    {
      "cell_type": "code",
      "source": [
        "from sklearn import preprocessing \n",
        "for f in train.columns: \n",
        "  if train[f].dtype=='object': \n",
        "    label = preprocessing.LabelEncoder() \n",
        "    label.fit(list(train[f].values)) \n",
        "    train[f] = label.transform(list(train[f].values))\n",
        "train.fillna((-999), inplace=True) \n",
        "train=np.array(train) \n",
        "train = train.astype(float) "
      ],
      "metadata": {
        "id": "2Fy2LAswf83H"
      },
      "execution_count": 29,
      "outputs": []
    },
    {
      "cell_type": "code",
      "source": [
        "train = pd.DataFrame(train)\n",
        "#print(train)"
      ],
      "metadata": {
        "id": "nJszSvaMiwE_"
      },
      "execution_count": 30,
      "outputs": []
    },
    {
      "cell_type": "code",
      "source": [
        "# Splitting dataset into features and label\n",
        "X = df.drop(' Label', axis=1)\n",
        "y = df[' Label']"
      ],
      "metadata": {
        "id": "xtS2U_IDWzn0"
      },
      "execution_count": 31,
      "outputs": []
    },
    {
      "cell_type": "code",
      "source": [
        "# split data into train and test sets\n",
        "X_train, X_test, y_train, y_test = train_test_split(X, y, test_size=0.2, random_state=7)"
      ],
      "metadata": {
        "id": "cD4UGEkuXoHu"
      },
      "execution_count": 32,
      "outputs": []
    },
    {
      "cell_type": "code",
      "source": [
        "X_train = X_train.replace((np.inf, -np.inf, np.nan), 0).reset_index(drop=True)\n",
        "X_test = X_test.replace((np.inf, -np.inf, np.nan), 0).reset_index(drop=True)\n",
        "X_train = StandardScaler().fit_transform(X_train)\n",
        "X_test = StandardScaler().fit_transform(X_test)"
      ],
      "metadata": {
        "id": "FLYY92EHgzk6"
      },
      "execution_count": 33,
      "outputs": []
    },
    {
      "cell_type": "code",
      "execution_count": 35,
      "metadata": {
        "id": "g7lJkoOng8mZ",
        "colab": {
          "base_uri": "https://localhost:8080/"
        },
        "outputId": "bfba957d-feb3-4729-db12-568fb013d1cd"
      },
      "outputs": [
        {
          "output_type": "execute_result",
          "data": {
            "text/plain": [
              "GaussianNB()"
            ]
          },
          "metadata": {},
          "execution_count": 35
        }
      ],
      "source": [
        "#y_train=y_train.astype('int')\n",
        "NB=GaussianNB()\n",
        "NB.fit(X_train, y_train)\n"
      ]
    },
    {
      "cell_type": "code",
      "source": [
        "y_pred = NB.predict(X_test)"
      ],
      "metadata": {
        "id": "bLkN5oX8gubF"
      },
      "execution_count": 36,
      "outputs": []
    },
    {
      "cell_type": "code",
      "execution_count": 37,
      "metadata": {
        "id": "gecHjR7RhR82",
        "colab": {
          "base_uri": "https://localhost:8080/"
        },
        "outputId": "be33614d-56f4-4d94-c2b3-bf960c023d2a"
      },
      "outputs": [
        {
          "output_type": "stream",
          "name": "stdout",
          "text": [
            "accuracy: 0.9465547409687922\n"
          ]
        }
      ],
      "source": [
        "accuracy = accuracy_score(y_test, y_pred)\n",
        "print(\"accuracy:\",accuracy)\n"
      ]
    },
    {
      "cell_type": "code",
      "source": [
        "f1score=f1_score(y_test, y_pred, average='micro')\n",
        "print(\"f1-acore:\",f1score)\n"
      ],
      "metadata": {
        "id": "qak8HG88YXUC",
        "colab": {
          "base_uri": "https://localhost:8080/"
        },
        "outputId": "9cb442bc-7774-44a3-8726-d99389543351"
      },
      "execution_count": 38,
      "outputs": [
        {
          "output_type": "stream",
          "name": "stdout",
          "text": [
            "f1-acore: 0.9465547409687922\n"
          ]
        }
      ]
    },
    {
      "cell_type": "code",
      "source": [
        "cm=confusion_matrix(y_test, y_pred)\n",
        "print(\"confusion matrix:\",cm)\n"
      ],
      "metadata": {
        "id": "f-zVP47pYbty",
        "colab": {
          "base_uri": "https://localhost:8080/"
        },
        "outputId": "da68a648-e69a-4e79-bd24-20b7224e8c1d"
      },
      "execution_count": 39,
      "outputs": [
        {
          "output_type": "stream",
          "name": "stdout",
          "text": [
            "confusion matrix: [[17323  2389]\n",
            " [   24 25413]]\n"
          ]
        }
      ]
    },
    {
      "cell_type": "code",
      "source": [
        "print(classification_report(y_test, y_pred))"
      ],
      "metadata": {
        "id": "c72lXh_VsAO_",
        "colab": {
          "base_uri": "https://localhost:8080/"
        },
        "outputId": "d195a347-2342-4204-9af8-14aa99eea8e4"
      },
      "execution_count": 40,
      "outputs": [
        {
          "output_type": "stream",
          "name": "stdout",
          "text": [
            "              precision    recall  f1-score   support\n",
            "\n",
            "      BENIGN       1.00      0.88      0.93     19712\n",
            "        DDoS       0.91      1.00      0.95     25437\n",
            "\n",
            "    accuracy                           0.95     45149\n",
            "   macro avg       0.96      0.94      0.94     45149\n",
            "weighted avg       0.95      0.95      0.95     45149\n",
            "\n"
          ]
        }
      ]
    },
    {
      "cell_type": "code",
      "source": [
        "pr=precision_score(y_test,y_pred, average='micro')\n",
        "print(\"Precision:\",pr)"
      ],
      "metadata": {
        "id": "HRP0K_VvYdvm",
        "colab": {
          "base_uri": "https://localhost:8080/"
        },
        "outputId": "26faa4a2-ec77-4541-cff5-88ef29b07e61"
      },
      "execution_count": 41,
      "outputs": [
        {
          "output_type": "stream",
          "name": "stdout",
          "text": [
            "Precision: 0.9465547409687922\n"
          ]
        }
      ]
    },
    {
      "cell_type": "markdown",
      "metadata": {
        "id": "3qmn2OoWiTde"
      },
      "source": [
        "KNN"
      ]
    },
    {
      "cell_type": "markdown",
      "source": [
        "# KNN"
      ],
      "metadata": {
        "id": "4YWQJ3K5vXnm"
      }
    },
    {
      "cell_type": "code",
      "execution_count": 42,
      "metadata": {
        "id": "1bXUjkEKiX8T"
      },
      "outputs": [],
      "source": [
        "import numpy as np\n",
        "import pandas as pd\n",
        "from sklearn.model_selection import train_test_split\n",
        "from sklearn.neighbors import KNeighborsClassifier\n",
        "from sklearn.preprocessing import StandardScaler\n",
        "from sklearn.metrics import classification_report, confusion_matrix\n"
      ]
    },
    {
      "cell_type": "code",
      "source": [
        "#import the dataset \n",
        "df= pd.read_csv('drive/MyDrive/Dataset/finalddos.csv')\n",
        "\n",
        "# Modify dataset\n",
        "df = df[[' Destination Port', 'Total Length of Fwd Packets', ' Bwd Packet Length Std', ' Flow IAT Min', 'Fwd IAT Total', ' Bwd Packets/s', 'Init_Win_bytes_forward', ' Init_Win_bytes_backward',' Label']]\n",
        "df.head()\n"
      ],
      "metadata": {
        "id": "4cQ11ZzwrN9c",
        "colab": {
          "base_uri": "https://localhost:8080/",
          "height": 206
        },
        "outputId": "93349d44-fcb8-40b6-a4a0-e24e8fb7aec3"
      },
      "execution_count": 44,
      "outputs": [
        {
          "output_type": "execute_result",
          "data": {
            "text/plain": [
              "    Destination Port  Total Length of Fwd Packets   Bwd Packet Length Std  \\\n",
              "0              54865                           12                     0.0   \n",
              "1              55054                            6                     0.0   \n",
              "2              55055                            6                     0.0   \n",
              "3              46236                            6                     0.0   \n",
              "4              54863                           12                     0.0   \n",
              "\n",
              "    Flow IAT Min  Fwd IAT Total   Bwd Packets/s  Init_Win_bytes_forward  \\\n",
              "0              3              3        0.000000                      33   \n",
              "1            109              0     9174.311927                      29   \n",
              "2             52              0    19230.769230                      29   \n",
              "3             34              0    29411.764710                      31   \n",
              "4              3              3        0.000000                      32   \n",
              "\n",
              "    Init_Win_bytes_backward   Label  \n",
              "0                        -1  BENIGN  \n",
              "1                       256  BENIGN  \n",
              "2                       256  BENIGN  \n",
              "3                       329  BENIGN  \n",
              "4                        -1  BENIGN  "
            ],
            "text/html": [
              "\n",
              "  <div id=\"df-db1677e6-aebb-4a6e-9950-bb087a68ecff\">\n",
              "    <div class=\"colab-df-container\">\n",
              "      <div>\n",
              "<style scoped>\n",
              "    .dataframe tbody tr th:only-of-type {\n",
              "        vertical-align: middle;\n",
              "    }\n",
              "\n",
              "    .dataframe tbody tr th {\n",
              "        vertical-align: top;\n",
              "    }\n",
              "\n",
              "    .dataframe thead th {\n",
              "        text-align: right;\n",
              "    }\n",
              "</style>\n",
              "<table border=\"1\" class=\"dataframe\">\n",
              "  <thead>\n",
              "    <tr style=\"text-align: right;\">\n",
              "      <th></th>\n",
              "      <th>Destination Port</th>\n",
              "      <th>Total Length of Fwd Packets</th>\n",
              "      <th>Bwd Packet Length Std</th>\n",
              "      <th>Flow IAT Min</th>\n",
              "      <th>Fwd IAT Total</th>\n",
              "      <th>Bwd Packets/s</th>\n",
              "      <th>Init_Win_bytes_forward</th>\n",
              "      <th>Init_Win_bytes_backward</th>\n",
              "      <th>Label</th>\n",
              "    </tr>\n",
              "  </thead>\n",
              "  <tbody>\n",
              "    <tr>\n",
              "      <th>0</th>\n",
              "      <td>54865</td>\n",
              "      <td>12</td>\n",
              "      <td>0.0</td>\n",
              "      <td>3</td>\n",
              "      <td>3</td>\n",
              "      <td>0.000000</td>\n",
              "      <td>33</td>\n",
              "      <td>-1</td>\n",
              "      <td>BENIGN</td>\n",
              "    </tr>\n",
              "    <tr>\n",
              "      <th>1</th>\n",
              "      <td>55054</td>\n",
              "      <td>6</td>\n",
              "      <td>0.0</td>\n",
              "      <td>109</td>\n",
              "      <td>0</td>\n",
              "      <td>9174.311927</td>\n",
              "      <td>29</td>\n",
              "      <td>256</td>\n",
              "      <td>BENIGN</td>\n",
              "    </tr>\n",
              "    <tr>\n",
              "      <th>2</th>\n",
              "      <td>55055</td>\n",
              "      <td>6</td>\n",
              "      <td>0.0</td>\n",
              "      <td>52</td>\n",
              "      <td>0</td>\n",
              "      <td>19230.769230</td>\n",
              "      <td>29</td>\n",
              "      <td>256</td>\n",
              "      <td>BENIGN</td>\n",
              "    </tr>\n",
              "    <tr>\n",
              "      <th>3</th>\n",
              "      <td>46236</td>\n",
              "      <td>6</td>\n",
              "      <td>0.0</td>\n",
              "      <td>34</td>\n",
              "      <td>0</td>\n",
              "      <td>29411.764710</td>\n",
              "      <td>31</td>\n",
              "      <td>329</td>\n",
              "      <td>BENIGN</td>\n",
              "    </tr>\n",
              "    <tr>\n",
              "      <th>4</th>\n",
              "      <td>54863</td>\n",
              "      <td>12</td>\n",
              "      <td>0.0</td>\n",
              "      <td>3</td>\n",
              "      <td>3</td>\n",
              "      <td>0.000000</td>\n",
              "      <td>32</td>\n",
              "      <td>-1</td>\n",
              "      <td>BENIGN</td>\n",
              "    </tr>\n",
              "  </tbody>\n",
              "</table>\n",
              "</div>\n",
              "      <button class=\"colab-df-convert\" onclick=\"convertToInteractive('df-db1677e6-aebb-4a6e-9950-bb087a68ecff')\"\n",
              "              title=\"Convert this dataframe to an interactive table.\"\n",
              "              style=\"display:none;\">\n",
              "        \n",
              "  <svg xmlns=\"http://www.w3.org/2000/svg\" height=\"24px\"viewBox=\"0 0 24 24\"\n",
              "       width=\"24px\">\n",
              "    <path d=\"M0 0h24v24H0V0z\" fill=\"none\"/>\n",
              "    <path d=\"M18.56 5.44l.94 2.06.94-2.06 2.06-.94-2.06-.94-.94-2.06-.94 2.06-2.06.94zm-11 1L8.5 8.5l.94-2.06 2.06-.94-2.06-.94L8.5 2.5l-.94 2.06-2.06.94zm10 10l.94 2.06.94-2.06 2.06-.94-2.06-.94-.94-2.06-.94 2.06-2.06.94z\"/><path d=\"M17.41 7.96l-1.37-1.37c-.4-.4-.92-.59-1.43-.59-.52 0-1.04.2-1.43.59L10.3 9.45l-7.72 7.72c-.78.78-.78 2.05 0 2.83L4 21.41c.39.39.9.59 1.41.59.51 0 1.02-.2 1.41-.59l7.78-7.78 2.81-2.81c.8-.78.8-2.07 0-2.86zM5.41 20L4 18.59l7.72-7.72 1.47 1.35L5.41 20z\"/>\n",
              "  </svg>\n",
              "      </button>\n",
              "      \n",
              "  <style>\n",
              "    .colab-df-container {\n",
              "      display:flex;\n",
              "      flex-wrap:wrap;\n",
              "      gap: 12px;\n",
              "    }\n",
              "\n",
              "    .colab-df-convert {\n",
              "      background-color: #E8F0FE;\n",
              "      border: none;\n",
              "      border-radius: 50%;\n",
              "      cursor: pointer;\n",
              "      display: none;\n",
              "      fill: #1967D2;\n",
              "      height: 32px;\n",
              "      padding: 0 0 0 0;\n",
              "      width: 32px;\n",
              "    }\n",
              "\n",
              "    .colab-df-convert:hover {\n",
              "      background-color: #E2EBFA;\n",
              "      box-shadow: 0px 1px 2px rgba(60, 64, 67, 0.3), 0px 1px 3px 1px rgba(60, 64, 67, 0.15);\n",
              "      fill: #174EA6;\n",
              "    }\n",
              "\n",
              "    [theme=dark] .colab-df-convert {\n",
              "      background-color: #3B4455;\n",
              "      fill: #D2E3FC;\n",
              "    }\n",
              "\n",
              "    [theme=dark] .colab-df-convert:hover {\n",
              "      background-color: #434B5C;\n",
              "      box-shadow: 0px 1px 3px 1px rgba(0, 0, 0, 0.15);\n",
              "      filter: drop-shadow(0px 1px 2px rgba(0, 0, 0, 0.3));\n",
              "      fill: #FFFFFF;\n",
              "    }\n",
              "  </style>\n",
              "\n",
              "      <script>\n",
              "        const buttonEl =\n",
              "          document.querySelector('#df-db1677e6-aebb-4a6e-9950-bb087a68ecff button.colab-df-convert');\n",
              "        buttonEl.style.display =\n",
              "          google.colab.kernel.accessAllowed ? 'block' : 'none';\n",
              "\n",
              "        async function convertToInteractive(key) {\n",
              "          const element = document.querySelector('#df-db1677e6-aebb-4a6e-9950-bb087a68ecff');\n",
              "          const dataTable =\n",
              "            await google.colab.kernel.invokeFunction('convertToInteractive',\n",
              "                                                     [key], {});\n",
              "          if (!dataTable) return;\n",
              "\n",
              "          const docLinkHtml = 'Like what you see? Visit the ' +\n",
              "            '<a target=\"_blank\" href=https://colab.research.google.com/notebooks/data_table.ipynb>data table notebook</a>'\n",
              "            + ' to learn more about interactive tables.';\n",
              "          element.innerHTML = '';\n",
              "          dataTable['output_type'] = 'display_data';\n",
              "          await google.colab.output.renderOutput(dataTable, element);\n",
              "          const docLink = document.createElement('div');\n",
              "          docLink.innerHTML = docLinkHtml;\n",
              "          element.appendChild(docLink);\n",
              "        }\n",
              "      </script>\n",
              "    </div>\n",
              "  </div>\n",
              "  "
            ]
          },
          "metadata": {},
          "execution_count": 44
        }
      ]
    },
    {
      "cell_type": "code",
      "source": [
        "#here we are preprocessing \n",
        "\n",
        "X=df.drop(' Label',1)\n",
        "y = df[' Label'].values"
      ],
      "metadata": {
        "id": "oBwukur4rbXY",
        "colab": {
          "base_uri": "https://localhost:8080/"
        },
        "outputId": "d545d442-04e5-4892-8d92-f6425cc425d8"
      },
      "execution_count": 45,
      "outputs": [
        {
          "output_type": "stream",
          "name": "stderr",
          "text": [
            "/usr/local/lib/python3.7/dist-packages/ipykernel_launcher.py:3: FutureWarning: In a future version of pandas all arguments of DataFrame.drop except for the argument 'labels' will be keyword-only\n",
            "  This is separate from the ipykernel package so we can avoid doing imports until\n"
          ]
        }
      ]
    },
    {
      "cell_type": "code",
      "source": [
        "#Split the training and testing data\n",
        "X_train, X_test, y_train, y_test = train_test_split(X, y, test_size=0.20)\n"
      ],
      "metadata": {
        "id": "mBNGvutPrqQI"
      },
      "execution_count": 46,
      "outputs": []
    },
    {
      "cell_type": "code",
      "source": [
        "#feature Scaling\n",
        "scaler = StandardScaler()\n",
        "scaler.fit(X_train)\n",
        "\n",
        "X_train = scaler.transform(X_train)\n",
        "X_test = scaler.transform(X_test)\n"
      ],
      "metadata": {
        "id": "u8FizeS5r07H"
      },
      "execution_count": 47,
      "outputs": []
    },
    {
      "cell_type": "code",
      "source": [
        "#here we train the KNN algorithm to make predictions with it\n",
        "\n",
        "KNN = KNeighborsClassifier(n_neighbors=5)\n",
        "KNN.fit(X_train, y_train)"
      ],
      "metadata": {
        "id": "qE9nqA-wr_7w",
        "colab": {
          "base_uri": "https://localhost:8080/"
        },
        "outputId": "5abb5d8d-2c37-4ac8-dd1f-b74cdbdd9942"
      },
      "execution_count": 48,
      "outputs": [
        {
          "output_type": "execute_result",
          "data": {
            "text/plain": [
              "KNeighborsClassifier()"
            ]
          },
          "metadata": {},
          "execution_count": 48
        }
      ]
    },
    {
      "cell_type": "code",
      "source": [
        "#make predictions on the test data \n",
        "y_pred = KNN.predict(X_test)"
      ],
      "metadata": {
        "id": "WqK6CR-9sJrz"
      },
      "execution_count": 49,
      "outputs": []
    },
    {
      "cell_type": "code",
      "source": [
        "print(confusion_matrix(y_test, y_pred))\n"
      ],
      "metadata": {
        "id": "dkzY2JcesYb4",
        "colab": {
          "base_uri": "https://localhost:8080/"
        },
        "outputId": "80b0e24e-7f76-4f7f-fa9f-1165770c17ea"
      },
      "execution_count": 50,
      "outputs": [
        {
          "output_type": "stream",
          "name": "stdout",
          "text": [
            "[[19526    20]\n",
            " [   15 25588]]\n"
          ]
        }
      ]
    },
    {
      "cell_type": "code",
      "source": [
        "print(classification_report(y_test, y_pred))"
      ],
      "metadata": {
        "id": "oHGGC-BSuVyL",
        "colab": {
          "base_uri": "https://localhost:8080/"
        },
        "outputId": "1f050b4d-125d-4a66-af82-71d92c07441d"
      },
      "execution_count": 51,
      "outputs": [
        {
          "output_type": "stream",
          "name": "stdout",
          "text": [
            "              precision    recall  f1-score   support\n",
            "\n",
            "      BENIGN       1.00      1.00      1.00     19546\n",
            "        DDoS       1.00      1.00      1.00     25603\n",
            "\n",
            "    accuracy                           1.00     45149\n",
            "   macro avg       1.00      1.00      1.00     45149\n",
            "weighted avg       1.00      1.00      1.00     45149\n",
            "\n"
          ]
        }
      ]
    },
    {
      "cell_type": "markdown",
      "source": [
        "RF"
      ],
      "metadata": {
        "id": "j7-a8qh8E4-w"
      }
    },
    {
      "cell_type": "markdown",
      "source": [
        "# RF"
      ],
      "metadata": {
        "id": "LICj_rH0vgWf"
      }
    },
    {
      "cell_type": "code",
      "source": [
        "import numpy as np\n",
        "import pandas as pd\n",
        "from sklearn.model_selection import train_test_split\n",
        "from sklearn.preprocessing import StandardScaler\n",
        "from sklearn.ensemble import RandomForestClassifier\n",
        "from sklearn.metrics import confusion_matrix, classification_report"
      ],
      "metadata": {
        "id": "i1jyxNPXE8ad"
      },
      "execution_count": 52,
      "outputs": []
    },
    {
      "cell_type": "code",
      "source": [
        "#import the dataset \n",
        "df= pd.read_csv('drive/MyDrive/Dataset/finalddos.csv')\n",
        "\n",
        "# Modify dataset\n",
        "df = df[[' Destination Port', 'Total Length of Fwd Packets', ' Bwd Packet Length Std', ' Flow IAT Min', 'Fwd IAT Total', ' Bwd Packets/s', 'Init_Win_bytes_forward', ' Init_Win_bytes_backward',' Label']]\n",
        "df.head()\n"
      ],
      "metadata": {
        "id": "jG1dfk4eduOH",
        "colab": {
          "base_uri": "https://localhost:8080/",
          "height": 206
        },
        "outputId": "eee5daf0-2e1b-44e2-dd4f-75171616e793"
      },
      "execution_count": 53,
      "outputs": [
        {
          "output_type": "execute_result",
          "data": {
            "text/plain": [
              "    Destination Port  Total Length of Fwd Packets   Bwd Packet Length Std  \\\n",
              "0              54865                           12                     0.0   \n",
              "1              55054                            6                     0.0   \n",
              "2              55055                            6                     0.0   \n",
              "3              46236                            6                     0.0   \n",
              "4              54863                           12                     0.0   \n",
              "\n",
              "    Flow IAT Min  Fwd IAT Total   Bwd Packets/s  Init_Win_bytes_forward  \\\n",
              "0              3              3        0.000000                      33   \n",
              "1            109              0     9174.311927                      29   \n",
              "2             52              0    19230.769230                      29   \n",
              "3             34              0    29411.764710                      31   \n",
              "4              3              3        0.000000                      32   \n",
              "\n",
              "    Init_Win_bytes_backward   Label  \n",
              "0                        -1  BENIGN  \n",
              "1                       256  BENIGN  \n",
              "2                       256  BENIGN  \n",
              "3                       329  BENIGN  \n",
              "4                        -1  BENIGN  "
            ],
            "text/html": [
              "\n",
              "  <div id=\"df-3d9ac8cb-9557-4024-9ca8-faaa88d5fdd0\">\n",
              "    <div class=\"colab-df-container\">\n",
              "      <div>\n",
              "<style scoped>\n",
              "    .dataframe tbody tr th:only-of-type {\n",
              "        vertical-align: middle;\n",
              "    }\n",
              "\n",
              "    .dataframe tbody tr th {\n",
              "        vertical-align: top;\n",
              "    }\n",
              "\n",
              "    .dataframe thead th {\n",
              "        text-align: right;\n",
              "    }\n",
              "</style>\n",
              "<table border=\"1\" class=\"dataframe\">\n",
              "  <thead>\n",
              "    <tr style=\"text-align: right;\">\n",
              "      <th></th>\n",
              "      <th>Destination Port</th>\n",
              "      <th>Total Length of Fwd Packets</th>\n",
              "      <th>Bwd Packet Length Std</th>\n",
              "      <th>Flow IAT Min</th>\n",
              "      <th>Fwd IAT Total</th>\n",
              "      <th>Bwd Packets/s</th>\n",
              "      <th>Init_Win_bytes_forward</th>\n",
              "      <th>Init_Win_bytes_backward</th>\n",
              "      <th>Label</th>\n",
              "    </tr>\n",
              "  </thead>\n",
              "  <tbody>\n",
              "    <tr>\n",
              "      <th>0</th>\n",
              "      <td>54865</td>\n",
              "      <td>12</td>\n",
              "      <td>0.0</td>\n",
              "      <td>3</td>\n",
              "      <td>3</td>\n",
              "      <td>0.000000</td>\n",
              "      <td>33</td>\n",
              "      <td>-1</td>\n",
              "      <td>BENIGN</td>\n",
              "    </tr>\n",
              "    <tr>\n",
              "      <th>1</th>\n",
              "      <td>55054</td>\n",
              "      <td>6</td>\n",
              "      <td>0.0</td>\n",
              "      <td>109</td>\n",
              "      <td>0</td>\n",
              "      <td>9174.311927</td>\n",
              "      <td>29</td>\n",
              "      <td>256</td>\n",
              "      <td>BENIGN</td>\n",
              "    </tr>\n",
              "    <tr>\n",
              "      <th>2</th>\n",
              "      <td>55055</td>\n",
              "      <td>6</td>\n",
              "      <td>0.0</td>\n",
              "      <td>52</td>\n",
              "      <td>0</td>\n",
              "      <td>19230.769230</td>\n",
              "      <td>29</td>\n",
              "      <td>256</td>\n",
              "      <td>BENIGN</td>\n",
              "    </tr>\n",
              "    <tr>\n",
              "      <th>3</th>\n",
              "      <td>46236</td>\n",
              "      <td>6</td>\n",
              "      <td>0.0</td>\n",
              "      <td>34</td>\n",
              "      <td>0</td>\n",
              "      <td>29411.764710</td>\n",
              "      <td>31</td>\n",
              "      <td>329</td>\n",
              "      <td>BENIGN</td>\n",
              "    </tr>\n",
              "    <tr>\n",
              "      <th>4</th>\n",
              "      <td>54863</td>\n",
              "      <td>12</td>\n",
              "      <td>0.0</td>\n",
              "      <td>3</td>\n",
              "      <td>3</td>\n",
              "      <td>0.000000</td>\n",
              "      <td>32</td>\n",
              "      <td>-1</td>\n",
              "      <td>BENIGN</td>\n",
              "    </tr>\n",
              "  </tbody>\n",
              "</table>\n",
              "</div>\n",
              "      <button class=\"colab-df-convert\" onclick=\"convertToInteractive('df-3d9ac8cb-9557-4024-9ca8-faaa88d5fdd0')\"\n",
              "              title=\"Convert this dataframe to an interactive table.\"\n",
              "              style=\"display:none;\">\n",
              "        \n",
              "  <svg xmlns=\"http://www.w3.org/2000/svg\" height=\"24px\"viewBox=\"0 0 24 24\"\n",
              "       width=\"24px\">\n",
              "    <path d=\"M0 0h24v24H0V0z\" fill=\"none\"/>\n",
              "    <path d=\"M18.56 5.44l.94 2.06.94-2.06 2.06-.94-2.06-.94-.94-2.06-.94 2.06-2.06.94zm-11 1L8.5 8.5l.94-2.06 2.06-.94-2.06-.94L8.5 2.5l-.94 2.06-2.06.94zm10 10l.94 2.06.94-2.06 2.06-.94-2.06-.94-.94-2.06-.94 2.06-2.06.94z\"/><path d=\"M17.41 7.96l-1.37-1.37c-.4-.4-.92-.59-1.43-.59-.52 0-1.04.2-1.43.59L10.3 9.45l-7.72 7.72c-.78.78-.78 2.05 0 2.83L4 21.41c.39.39.9.59 1.41.59.51 0 1.02-.2 1.41-.59l7.78-7.78 2.81-2.81c.8-.78.8-2.07 0-2.86zM5.41 20L4 18.59l7.72-7.72 1.47 1.35L5.41 20z\"/>\n",
              "  </svg>\n",
              "      </button>\n",
              "      \n",
              "  <style>\n",
              "    .colab-df-container {\n",
              "      display:flex;\n",
              "      flex-wrap:wrap;\n",
              "      gap: 12px;\n",
              "    }\n",
              "\n",
              "    .colab-df-convert {\n",
              "      background-color: #E8F0FE;\n",
              "      border: none;\n",
              "      border-radius: 50%;\n",
              "      cursor: pointer;\n",
              "      display: none;\n",
              "      fill: #1967D2;\n",
              "      height: 32px;\n",
              "      padding: 0 0 0 0;\n",
              "      width: 32px;\n",
              "    }\n",
              "\n",
              "    .colab-df-convert:hover {\n",
              "      background-color: #E2EBFA;\n",
              "      box-shadow: 0px 1px 2px rgba(60, 64, 67, 0.3), 0px 1px 3px 1px rgba(60, 64, 67, 0.15);\n",
              "      fill: #174EA6;\n",
              "    }\n",
              "\n",
              "    [theme=dark] .colab-df-convert {\n",
              "      background-color: #3B4455;\n",
              "      fill: #D2E3FC;\n",
              "    }\n",
              "\n",
              "    [theme=dark] .colab-df-convert:hover {\n",
              "      background-color: #434B5C;\n",
              "      box-shadow: 0px 1px 3px 1px rgba(0, 0, 0, 0.15);\n",
              "      filter: drop-shadow(0px 1px 2px rgba(0, 0, 0, 0.3));\n",
              "      fill: #FFFFFF;\n",
              "    }\n",
              "  </style>\n",
              "\n",
              "      <script>\n",
              "        const buttonEl =\n",
              "          document.querySelector('#df-3d9ac8cb-9557-4024-9ca8-faaa88d5fdd0 button.colab-df-convert');\n",
              "        buttonEl.style.display =\n",
              "          google.colab.kernel.accessAllowed ? 'block' : 'none';\n",
              "\n",
              "        async function convertToInteractive(key) {\n",
              "          const element = document.querySelector('#df-3d9ac8cb-9557-4024-9ca8-faaa88d5fdd0');\n",
              "          const dataTable =\n",
              "            await google.colab.kernel.invokeFunction('convertToInteractive',\n",
              "                                                     [key], {});\n",
              "          if (!dataTable) return;\n",
              "\n",
              "          const docLinkHtml = 'Like what you see? Visit the ' +\n",
              "            '<a target=\"_blank\" href=https://colab.research.google.com/notebooks/data_table.ipynb>data table notebook</a>'\n",
              "            + ' to learn more about interactive tables.';\n",
              "          element.innerHTML = '';\n",
              "          dataTable['output_type'] = 'display_data';\n",
              "          await google.colab.output.renderOutput(dataTable, element);\n",
              "          const docLink = document.createElement('div');\n",
              "          docLink.innerHTML = docLinkHtml;\n",
              "          element.appendChild(docLink);\n",
              "        }\n",
              "      </script>\n",
              "    </div>\n",
              "  </div>\n",
              "  "
            ]
          },
          "metadata": {},
          "execution_count": 53
        }
      ]
    },
    {
      "cell_type": "code",
      "source": [
        "#here we are preprocessing \n",
        "X = df.drop(' Label',1)\n",
        "y = df[' Label'].values"
      ],
      "metadata": {
        "id": "7dr4INuqeBes",
        "colab": {
          "base_uri": "https://localhost:8080/"
        },
        "outputId": "98deea5b-d76f-4041-b81e-325bdd92525f"
      },
      "execution_count": 54,
      "outputs": [
        {
          "output_type": "stream",
          "name": "stderr",
          "text": [
            "/usr/local/lib/python3.7/dist-packages/ipykernel_launcher.py:2: FutureWarning: In a future version of pandas all arguments of DataFrame.drop except for the argument 'labels' will be keyword-only\n",
            "  \n"
          ]
        }
      ]
    },
    {
      "cell_type": "code",
      "source": [
        "# Splitting the dataset into the Training set and Test set\n",
        "X_Train, X_Test, y_Train, y_Test = train_test_split(X, y, test_size = 0.2, random_state = 0)"
      ],
      "metadata": {
        "id": "DF6WBPDEebV9"
      },
      "execution_count": 56,
      "outputs": []
    },
    {
      "cell_type": "code",
      "source": [
        "# Feature Scaling\n",
        "X_Train = StandardScaler().fit_transform(X_Train)\n",
        "X_Test = StandardScaler().fit_transform(X_Test)"
      ],
      "metadata": {
        "id": "jvKxzQ2neodY"
      },
      "execution_count": 57,
      "outputs": []
    },
    {
      "cell_type": "code",
      "source": [
        "# Fitting the classifier into the Training set\n",
        "RF = RandomForestClassifier(n_estimators = 200, criterion = 'entropy', random_state = 0)\n",
        "RF.fit(X_Train,y_Train)"
      ],
      "metadata": {
        "id": "pVOn1ocPe0kZ",
        "colab": {
          "base_uri": "https://localhost:8080/"
        },
        "outputId": "b6080412-dfe4-43ee-9fd3-33e5ad1f2069"
      },
      "execution_count": 58,
      "outputs": [
        {
          "output_type": "execute_result",
          "data": {
            "text/plain": [
              "RandomForestClassifier(criterion='entropy', n_estimators=200, random_state=0)"
            ]
          },
          "metadata": {},
          "execution_count": 58
        }
      ]
    },
    {
      "cell_type": "code",
      "source": [
        "# Predicting the test set results\n",
        "y_Pred = RF.predict(X_Test)"
      ],
      "metadata": {
        "id": "hZqHCfWMfKWk"
      },
      "execution_count": 59,
      "outputs": []
    },
    {
      "cell_type": "code",
      "source": [
        "# Making the Confusion Matrix \n",
        "cm = confusion_matrix(y_Test, y_Pred)\n",
        "print(cm)"
      ],
      "metadata": {
        "id": "Lg79dkwKfO9f",
        "colab": {
          "base_uri": "https://localhost:8080/"
        },
        "outputId": "66106340-1760-4244-d341-326252ade61a"
      },
      "execution_count": 60,
      "outputs": [
        {
          "output_type": "stream",
          "name": "stdout",
          "text": [
            "[[19481     8]\n",
            " [ 2917 22743]]\n"
          ]
        }
      ]
    },
    {
      "cell_type": "code",
      "source": [
        "print(classification_report(y_Test, y_Pred))"
      ],
      "metadata": {
        "id": "op2Y8MY1fUXU",
        "colab": {
          "base_uri": "https://localhost:8080/"
        },
        "outputId": "b8f72d4d-4ee0-4fec-d93d-44a06a562d52"
      },
      "execution_count": 61,
      "outputs": [
        {
          "output_type": "stream",
          "name": "stdout",
          "text": [
            "              precision    recall  f1-score   support\n",
            "\n",
            "      BENIGN       0.87      1.00      0.93     19489\n",
            "        DDoS       1.00      0.89      0.94     25660\n",
            "\n",
            "    accuracy                           0.94     45149\n",
            "   macro avg       0.93      0.94      0.93     45149\n",
            "weighted avg       0.94      0.94      0.94     45149\n",
            "\n"
          ]
        }
      ]
    },
    {
      "cell_type": "markdown",
      "source": [
        "DT"
      ],
      "metadata": {
        "id": "kmxNGflpvUOD"
      }
    },
    {
      "cell_type": "markdown",
      "source": [
        "# DT"
      ],
      "metadata": {
        "id": "mCEQVMf5vjWe"
      }
    },
    {
      "cell_type": "code",
      "source": [
        "import numpy as np\n",
        "import pandas as pd\n",
        "from sklearn.model_selection import train_test_split\n",
        "from sklearn.preprocessing import StandardScaler\n",
        "from sklearn.metrics import confusion_matrix, classification_report\n",
        "from sklearn.tree import DecisionTreeClassifier"
      ],
      "metadata": {
        "id": "eULVOTVQvVxh"
      },
      "execution_count": 62,
      "outputs": []
    },
    {
      "cell_type": "code",
      "source": [
        "#import the dataset \n",
        "df= pd.read_csv('drive/MyDrive/Dataset/finalddos.csv')\n",
        "\n",
        "# Modify dataset\n",
        "df = df[[' Destination Port', 'Total Length of Fwd Packets', ' Bwd Packet Length Std', ' Flow IAT Min', 'Fwd IAT Total', ' Bwd Packets/s', 'Init_Win_bytes_forward', ' Init_Win_bytes_backward',' Label']]\n",
        "df.head()\n"
      ],
      "metadata": {
        "id": "_Yv0m0QRvkoJ",
        "colab": {
          "base_uri": "https://localhost:8080/",
          "height": 206
        },
        "outputId": "1068f8bf-ca2d-44f4-805a-825e58d79098"
      },
      "execution_count": 63,
      "outputs": [
        {
          "output_type": "execute_result",
          "data": {
            "text/plain": [
              "    Destination Port  Total Length of Fwd Packets   Bwd Packet Length Std  \\\n",
              "0              54865                           12                     0.0   \n",
              "1              55054                            6                     0.0   \n",
              "2              55055                            6                     0.0   \n",
              "3              46236                            6                     0.0   \n",
              "4              54863                           12                     0.0   \n",
              "\n",
              "    Flow IAT Min  Fwd IAT Total   Bwd Packets/s  Init_Win_bytes_forward  \\\n",
              "0              3              3        0.000000                      33   \n",
              "1            109              0     9174.311927                      29   \n",
              "2             52              0    19230.769230                      29   \n",
              "3             34              0    29411.764710                      31   \n",
              "4              3              3        0.000000                      32   \n",
              "\n",
              "    Init_Win_bytes_backward   Label  \n",
              "0                        -1  BENIGN  \n",
              "1                       256  BENIGN  \n",
              "2                       256  BENIGN  \n",
              "3                       329  BENIGN  \n",
              "4                        -1  BENIGN  "
            ],
            "text/html": [
              "\n",
              "  <div id=\"df-b4e021c9-328e-4490-8db0-e3a5896b2aea\">\n",
              "    <div class=\"colab-df-container\">\n",
              "      <div>\n",
              "<style scoped>\n",
              "    .dataframe tbody tr th:only-of-type {\n",
              "        vertical-align: middle;\n",
              "    }\n",
              "\n",
              "    .dataframe tbody tr th {\n",
              "        vertical-align: top;\n",
              "    }\n",
              "\n",
              "    .dataframe thead th {\n",
              "        text-align: right;\n",
              "    }\n",
              "</style>\n",
              "<table border=\"1\" class=\"dataframe\">\n",
              "  <thead>\n",
              "    <tr style=\"text-align: right;\">\n",
              "      <th></th>\n",
              "      <th>Destination Port</th>\n",
              "      <th>Total Length of Fwd Packets</th>\n",
              "      <th>Bwd Packet Length Std</th>\n",
              "      <th>Flow IAT Min</th>\n",
              "      <th>Fwd IAT Total</th>\n",
              "      <th>Bwd Packets/s</th>\n",
              "      <th>Init_Win_bytes_forward</th>\n",
              "      <th>Init_Win_bytes_backward</th>\n",
              "      <th>Label</th>\n",
              "    </tr>\n",
              "  </thead>\n",
              "  <tbody>\n",
              "    <tr>\n",
              "      <th>0</th>\n",
              "      <td>54865</td>\n",
              "      <td>12</td>\n",
              "      <td>0.0</td>\n",
              "      <td>3</td>\n",
              "      <td>3</td>\n",
              "      <td>0.000000</td>\n",
              "      <td>33</td>\n",
              "      <td>-1</td>\n",
              "      <td>BENIGN</td>\n",
              "    </tr>\n",
              "    <tr>\n",
              "      <th>1</th>\n",
              "      <td>55054</td>\n",
              "      <td>6</td>\n",
              "      <td>0.0</td>\n",
              "      <td>109</td>\n",
              "      <td>0</td>\n",
              "      <td>9174.311927</td>\n",
              "      <td>29</td>\n",
              "      <td>256</td>\n",
              "      <td>BENIGN</td>\n",
              "    </tr>\n",
              "    <tr>\n",
              "      <th>2</th>\n",
              "      <td>55055</td>\n",
              "      <td>6</td>\n",
              "      <td>0.0</td>\n",
              "      <td>52</td>\n",
              "      <td>0</td>\n",
              "      <td>19230.769230</td>\n",
              "      <td>29</td>\n",
              "      <td>256</td>\n",
              "      <td>BENIGN</td>\n",
              "    </tr>\n",
              "    <tr>\n",
              "      <th>3</th>\n",
              "      <td>46236</td>\n",
              "      <td>6</td>\n",
              "      <td>0.0</td>\n",
              "      <td>34</td>\n",
              "      <td>0</td>\n",
              "      <td>29411.764710</td>\n",
              "      <td>31</td>\n",
              "      <td>329</td>\n",
              "      <td>BENIGN</td>\n",
              "    </tr>\n",
              "    <tr>\n",
              "      <th>4</th>\n",
              "      <td>54863</td>\n",
              "      <td>12</td>\n",
              "      <td>0.0</td>\n",
              "      <td>3</td>\n",
              "      <td>3</td>\n",
              "      <td>0.000000</td>\n",
              "      <td>32</td>\n",
              "      <td>-1</td>\n",
              "      <td>BENIGN</td>\n",
              "    </tr>\n",
              "  </tbody>\n",
              "</table>\n",
              "</div>\n",
              "      <button class=\"colab-df-convert\" onclick=\"convertToInteractive('df-b4e021c9-328e-4490-8db0-e3a5896b2aea')\"\n",
              "              title=\"Convert this dataframe to an interactive table.\"\n",
              "              style=\"display:none;\">\n",
              "        \n",
              "  <svg xmlns=\"http://www.w3.org/2000/svg\" height=\"24px\"viewBox=\"0 0 24 24\"\n",
              "       width=\"24px\">\n",
              "    <path d=\"M0 0h24v24H0V0z\" fill=\"none\"/>\n",
              "    <path d=\"M18.56 5.44l.94 2.06.94-2.06 2.06-.94-2.06-.94-.94-2.06-.94 2.06-2.06.94zm-11 1L8.5 8.5l.94-2.06 2.06-.94-2.06-.94L8.5 2.5l-.94 2.06-2.06.94zm10 10l.94 2.06.94-2.06 2.06-.94-2.06-.94-.94-2.06-.94 2.06-2.06.94z\"/><path d=\"M17.41 7.96l-1.37-1.37c-.4-.4-.92-.59-1.43-.59-.52 0-1.04.2-1.43.59L10.3 9.45l-7.72 7.72c-.78.78-.78 2.05 0 2.83L4 21.41c.39.39.9.59 1.41.59.51 0 1.02-.2 1.41-.59l7.78-7.78 2.81-2.81c.8-.78.8-2.07 0-2.86zM5.41 20L4 18.59l7.72-7.72 1.47 1.35L5.41 20z\"/>\n",
              "  </svg>\n",
              "      </button>\n",
              "      \n",
              "  <style>\n",
              "    .colab-df-container {\n",
              "      display:flex;\n",
              "      flex-wrap:wrap;\n",
              "      gap: 12px;\n",
              "    }\n",
              "\n",
              "    .colab-df-convert {\n",
              "      background-color: #E8F0FE;\n",
              "      border: none;\n",
              "      border-radius: 50%;\n",
              "      cursor: pointer;\n",
              "      display: none;\n",
              "      fill: #1967D2;\n",
              "      height: 32px;\n",
              "      padding: 0 0 0 0;\n",
              "      width: 32px;\n",
              "    }\n",
              "\n",
              "    .colab-df-convert:hover {\n",
              "      background-color: #E2EBFA;\n",
              "      box-shadow: 0px 1px 2px rgba(60, 64, 67, 0.3), 0px 1px 3px 1px rgba(60, 64, 67, 0.15);\n",
              "      fill: #174EA6;\n",
              "    }\n",
              "\n",
              "    [theme=dark] .colab-df-convert {\n",
              "      background-color: #3B4455;\n",
              "      fill: #D2E3FC;\n",
              "    }\n",
              "\n",
              "    [theme=dark] .colab-df-convert:hover {\n",
              "      background-color: #434B5C;\n",
              "      box-shadow: 0px 1px 3px 1px rgba(0, 0, 0, 0.15);\n",
              "      filter: drop-shadow(0px 1px 2px rgba(0, 0, 0, 0.3));\n",
              "      fill: #FFFFFF;\n",
              "    }\n",
              "  </style>\n",
              "\n",
              "      <script>\n",
              "        const buttonEl =\n",
              "          document.querySelector('#df-b4e021c9-328e-4490-8db0-e3a5896b2aea button.colab-df-convert');\n",
              "        buttonEl.style.display =\n",
              "          google.colab.kernel.accessAllowed ? 'block' : 'none';\n",
              "\n",
              "        async function convertToInteractive(key) {\n",
              "          const element = document.querySelector('#df-b4e021c9-328e-4490-8db0-e3a5896b2aea');\n",
              "          const dataTable =\n",
              "            await google.colab.kernel.invokeFunction('convertToInteractive',\n",
              "                                                     [key], {});\n",
              "          if (!dataTable) return;\n",
              "\n",
              "          const docLinkHtml = 'Like what you see? Visit the ' +\n",
              "            '<a target=\"_blank\" href=https://colab.research.google.com/notebooks/data_table.ipynb>data table notebook</a>'\n",
              "            + ' to learn more about interactive tables.';\n",
              "          element.innerHTML = '';\n",
              "          dataTable['output_type'] = 'display_data';\n",
              "          await google.colab.output.renderOutput(dataTable, element);\n",
              "          const docLink = document.createElement('div');\n",
              "          docLink.innerHTML = docLinkHtml;\n",
              "          element.appendChild(docLink);\n",
              "        }\n",
              "      </script>\n",
              "    </div>\n",
              "  </div>\n",
              "  "
            ]
          },
          "metadata": {},
          "execution_count": 63
        }
      ]
    },
    {
      "cell_type": "code",
      "source": [
        "#here we are preprocessing \n",
        "X = df.drop(' Label',1)\n",
        "y = df[' Label'].values"
      ],
      "metadata": {
        "id": "IvRSgYIlvlks",
        "colab": {
          "base_uri": "https://localhost:8080/"
        },
        "outputId": "15a0ffc6-c01f-4e27-c2d7-a463cfa00d4d"
      },
      "execution_count": 64,
      "outputs": [
        {
          "output_type": "stream",
          "name": "stderr",
          "text": [
            "/usr/local/lib/python3.7/dist-packages/ipykernel_launcher.py:2: FutureWarning: In a future version of pandas all arguments of DataFrame.drop except for the argument 'labels' will be keyword-only\n",
            "  \n"
          ]
        }
      ]
    },
    {
      "cell_type": "code",
      "source": [
        "# Splitting the dataset into the Training set and Test set\n",
        "X_Train, X_Test, y_Train, y_Test = train_test_split(X, y, test_size = 0.2, random_state = 0)"
      ],
      "metadata": {
        "id": "z_1Gsphgvp7p"
      },
      "execution_count": 66,
      "outputs": []
    },
    {
      "cell_type": "code",
      "source": [
        "# Feature Scaling\n",
        "X_Train = X_Train.replace((np.inf, -np.inf, np.nan), 0).reset_index(drop=True)\n",
        "X_Test = X_Test.replace((np.inf, -np.inf, np.nan), 0).reset_index(drop=True)\n",
        "X_Train = StandardScaler().fit_transform(X_Train)\n",
        "X_Test = StandardScaler().fit_transform(X_Test)"
      ],
      "metadata": {
        "id": "zMz5gVpkvuFT"
      },
      "execution_count": 67,
      "outputs": []
    },
    {
      "cell_type": "code",
      "source": [
        "# Fitting the classifier into the Training set\n",
        "DT = DecisionTreeClassifier(max_depth=6, random_state=1)\n",
        "DT.fit(X_Train, y_Train)"
      ],
      "metadata": {
        "id": "6aaF8NbjvyYC",
        "colab": {
          "base_uri": "https://localhost:8080/"
        },
        "outputId": "3b30a3af-2d41-4a30-861d-87100457394f"
      },
      "execution_count": 68,
      "outputs": [
        {
          "output_type": "execute_result",
          "data": {
            "text/plain": [
              "DecisionTreeClassifier(max_depth=6, random_state=1)"
            ]
          },
          "metadata": {},
          "execution_count": 68
        }
      ]
    },
    {
      "cell_type": "code",
      "source": [
        "# Predicting the test set results\n",
        "y_Pred = DT.predict(X_Test)"
      ],
      "metadata": {
        "id": "P0iiQeGfwOA5"
      },
      "execution_count": 69,
      "outputs": []
    },
    {
      "cell_type": "code",
      "source": [
        "# Making the Confusion Matrix \n",
        "cm = confusion_matrix(y_Test, y_Pred)\n",
        "print(cm)"
      ],
      "metadata": {
        "id": "XLv30L_ywTn9",
        "colab": {
          "base_uri": "https://localhost:8080/"
        },
        "outputId": "a44c578b-b313-4e15-e722-2c16bff3156f"
      },
      "execution_count": 70,
      "outputs": [
        {
          "output_type": "stream",
          "name": "stdout",
          "text": [
            "[[18976   513]\n",
            " [    9 25651]]\n"
          ]
        }
      ]
    },
    {
      "cell_type": "code",
      "source": [
        "print(classification_report(y_Test, y_Pred))"
      ],
      "metadata": {
        "id": "6Q9s8I7cwZtp",
        "colab": {
          "base_uri": "https://localhost:8080/"
        },
        "outputId": "6086800e-a4e1-486b-86ea-fe522bc3d04a"
      },
      "execution_count": 71,
      "outputs": [
        {
          "output_type": "stream",
          "name": "stdout",
          "text": [
            "              precision    recall  f1-score   support\n",
            "\n",
            "      BENIGN       1.00      0.97      0.99     19489\n",
            "        DDoS       0.98      1.00      0.99     25660\n",
            "\n",
            "    accuracy                           0.99     45149\n",
            "   macro avg       0.99      0.99      0.99     45149\n",
            "weighted avg       0.99      0.99      0.99     45149\n",
            "\n"
          ]
        }
      ]
    },
    {
      "cell_type": "markdown",
      "source": [
        "Stacked Model"
      ],
      "metadata": {
        "id": "HcKwv4Dt0juN"
      }
    },
    {
      "cell_type": "markdown",
      "source": [
        "# Stacked Model"
      ],
      "metadata": {
        "id": "_WKMAhQZvmm3"
      }
    },
    {
      "cell_type": "code",
      "source": [
        "import numpy as np\n",
        "import pandas as pd\n",
        "from sklearn.ensemble import StackingClassifier\n",
        "from sklearn.linear_model import LogisticRegression\n",
        "from sklearn.metrics import accuracy_score\n",
        "from sklearn.metrics import f1_score\n",
        "from sklearn.metrics import confusion_matrix, classification_report"
      ],
      "metadata": {
        "id": "Fl1KEqav0pzH"
      },
      "execution_count": 72,
      "outputs": []
    },
    {
      "cell_type": "code",
      "source": [
        "#import the dataset \n",
        "df= pd.read_csv('drive/MyDrive/Dataset/finalddos.csv')\n",
        "\n",
        "# Modify dataset\n",
        "df = df[[' Destination Port', 'Total Length of Fwd Packets', ' Bwd Packet Length Std', ' Flow IAT Min', 'Fwd IAT Total', ' Bwd Packets/s', 'Init_Win_bytes_forward', ' Init_Win_bytes_backward',' Label']]\n",
        "df.head()\n"
      ],
      "metadata": {
        "id": "K5QVhJq32Ux5",
        "colab": {
          "base_uri": "https://localhost:8080/",
          "height": 206
        },
        "outputId": "5ec0a935-88b2-4a58-ae68-dbf493906f59"
      },
      "execution_count": 73,
      "outputs": [
        {
          "output_type": "execute_result",
          "data": {
            "text/plain": [
              "    Destination Port  Total Length of Fwd Packets   Bwd Packet Length Std  \\\n",
              "0              54865                           12                     0.0   \n",
              "1              55054                            6                     0.0   \n",
              "2              55055                            6                     0.0   \n",
              "3              46236                            6                     0.0   \n",
              "4              54863                           12                     0.0   \n",
              "\n",
              "    Flow IAT Min  Fwd IAT Total   Bwd Packets/s  Init_Win_bytes_forward  \\\n",
              "0              3              3        0.000000                      33   \n",
              "1            109              0     9174.311927                      29   \n",
              "2             52              0    19230.769230                      29   \n",
              "3             34              0    29411.764710                      31   \n",
              "4              3              3        0.000000                      32   \n",
              "\n",
              "    Init_Win_bytes_backward   Label  \n",
              "0                        -1  BENIGN  \n",
              "1                       256  BENIGN  \n",
              "2                       256  BENIGN  \n",
              "3                       329  BENIGN  \n",
              "4                        -1  BENIGN  "
            ],
            "text/html": [
              "\n",
              "  <div id=\"df-db09397b-9d3d-4ed4-bac2-438777f8c6d3\">\n",
              "    <div class=\"colab-df-container\">\n",
              "      <div>\n",
              "<style scoped>\n",
              "    .dataframe tbody tr th:only-of-type {\n",
              "        vertical-align: middle;\n",
              "    }\n",
              "\n",
              "    .dataframe tbody tr th {\n",
              "        vertical-align: top;\n",
              "    }\n",
              "\n",
              "    .dataframe thead th {\n",
              "        text-align: right;\n",
              "    }\n",
              "</style>\n",
              "<table border=\"1\" class=\"dataframe\">\n",
              "  <thead>\n",
              "    <tr style=\"text-align: right;\">\n",
              "      <th></th>\n",
              "      <th>Destination Port</th>\n",
              "      <th>Total Length of Fwd Packets</th>\n",
              "      <th>Bwd Packet Length Std</th>\n",
              "      <th>Flow IAT Min</th>\n",
              "      <th>Fwd IAT Total</th>\n",
              "      <th>Bwd Packets/s</th>\n",
              "      <th>Init_Win_bytes_forward</th>\n",
              "      <th>Init_Win_bytes_backward</th>\n",
              "      <th>Label</th>\n",
              "    </tr>\n",
              "  </thead>\n",
              "  <tbody>\n",
              "    <tr>\n",
              "      <th>0</th>\n",
              "      <td>54865</td>\n",
              "      <td>12</td>\n",
              "      <td>0.0</td>\n",
              "      <td>3</td>\n",
              "      <td>3</td>\n",
              "      <td>0.000000</td>\n",
              "      <td>33</td>\n",
              "      <td>-1</td>\n",
              "      <td>BENIGN</td>\n",
              "    </tr>\n",
              "    <tr>\n",
              "      <th>1</th>\n",
              "      <td>55054</td>\n",
              "      <td>6</td>\n",
              "      <td>0.0</td>\n",
              "      <td>109</td>\n",
              "      <td>0</td>\n",
              "      <td>9174.311927</td>\n",
              "      <td>29</td>\n",
              "      <td>256</td>\n",
              "      <td>BENIGN</td>\n",
              "    </tr>\n",
              "    <tr>\n",
              "      <th>2</th>\n",
              "      <td>55055</td>\n",
              "      <td>6</td>\n",
              "      <td>0.0</td>\n",
              "      <td>52</td>\n",
              "      <td>0</td>\n",
              "      <td>19230.769230</td>\n",
              "      <td>29</td>\n",
              "      <td>256</td>\n",
              "      <td>BENIGN</td>\n",
              "    </tr>\n",
              "    <tr>\n",
              "      <th>3</th>\n",
              "      <td>46236</td>\n",
              "      <td>6</td>\n",
              "      <td>0.0</td>\n",
              "      <td>34</td>\n",
              "      <td>0</td>\n",
              "      <td>29411.764710</td>\n",
              "      <td>31</td>\n",
              "      <td>329</td>\n",
              "      <td>BENIGN</td>\n",
              "    </tr>\n",
              "    <tr>\n",
              "      <th>4</th>\n",
              "      <td>54863</td>\n",
              "      <td>12</td>\n",
              "      <td>0.0</td>\n",
              "      <td>3</td>\n",
              "      <td>3</td>\n",
              "      <td>0.000000</td>\n",
              "      <td>32</td>\n",
              "      <td>-1</td>\n",
              "      <td>BENIGN</td>\n",
              "    </tr>\n",
              "  </tbody>\n",
              "</table>\n",
              "</div>\n",
              "      <button class=\"colab-df-convert\" onclick=\"convertToInteractive('df-db09397b-9d3d-4ed4-bac2-438777f8c6d3')\"\n",
              "              title=\"Convert this dataframe to an interactive table.\"\n",
              "              style=\"display:none;\">\n",
              "        \n",
              "  <svg xmlns=\"http://www.w3.org/2000/svg\" height=\"24px\"viewBox=\"0 0 24 24\"\n",
              "       width=\"24px\">\n",
              "    <path d=\"M0 0h24v24H0V0z\" fill=\"none\"/>\n",
              "    <path d=\"M18.56 5.44l.94 2.06.94-2.06 2.06-.94-2.06-.94-.94-2.06-.94 2.06-2.06.94zm-11 1L8.5 8.5l.94-2.06 2.06-.94-2.06-.94L8.5 2.5l-.94 2.06-2.06.94zm10 10l.94 2.06.94-2.06 2.06-.94-2.06-.94-.94-2.06-.94 2.06-2.06.94z\"/><path d=\"M17.41 7.96l-1.37-1.37c-.4-.4-.92-.59-1.43-.59-.52 0-1.04.2-1.43.59L10.3 9.45l-7.72 7.72c-.78.78-.78 2.05 0 2.83L4 21.41c.39.39.9.59 1.41.59.51 0 1.02-.2 1.41-.59l7.78-7.78 2.81-2.81c.8-.78.8-2.07 0-2.86zM5.41 20L4 18.59l7.72-7.72 1.47 1.35L5.41 20z\"/>\n",
              "  </svg>\n",
              "      </button>\n",
              "      \n",
              "  <style>\n",
              "    .colab-df-container {\n",
              "      display:flex;\n",
              "      flex-wrap:wrap;\n",
              "      gap: 12px;\n",
              "    }\n",
              "\n",
              "    .colab-df-convert {\n",
              "      background-color: #E8F0FE;\n",
              "      border: none;\n",
              "      border-radius: 50%;\n",
              "      cursor: pointer;\n",
              "      display: none;\n",
              "      fill: #1967D2;\n",
              "      height: 32px;\n",
              "      padding: 0 0 0 0;\n",
              "      width: 32px;\n",
              "    }\n",
              "\n",
              "    .colab-df-convert:hover {\n",
              "      background-color: #E2EBFA;\n",
              "      box-shadow: 0px 1px 2px rgba(60, 64, 67, 0.3), 0px 1px 3px 1px rgba(60, 64, 67, 0.15);\n",
              "      fill: #174EA6;\n",
              "    }\n",
              "\n",
              "    [theme=dark] .colab-df-convert {\n",
              "      background-color: #3B4455;\n",
              "      fill: #D2E3FC;\n",
              "    }\n",
              "\n",
              "    [theme=dark] .colab-df-convert:hover {\n",
              "      background-color: #434B5C;\n",
              "      box-shadow: 0px 1px 3px 1px rgba(0, 0, 0, 0.15);\n",
              "      filter: drop-shadow(0px 1px 2px rgba(0, 0, 0, 0.3));\n",
              "      fill: #FFFFFF;\n",
              "    }\n",
              "  </style>\n",
              "\n",
              "      <script>\n",
              "        const buttonEl =\n",
              "          document.querySelector('#df-db09397b-9d3d-4ed4-bac2-438777f8c6d3 button.colab-df-convert');\n",
              "        buttonEl.style.display =\n",
              "          google.colab.kernel.accessAllowed ? 'block' : 'none';\n",
              "\n",
              "        async function convertToInteractive(key) {\n",
              "          const element = document.querySelector('#df-db09397b-9d3d-4ed4-bac2-438777f8c6d3');\n",
              "          const dataTable =\n",
              "            await google.colab.kernel.invokeFunction('convertToInteractive',\n",
              "                                                     [key], {});\n",
              "          if (!dataTable) return;\n",
              "\n",
              "          const docLinkHtml = 'Like what you see? Visit the ' +\n",
              "            '<a target=\"_blank\" href=https://colab.research.google.com/notebooks/data_table.ipynb>data table notebook</a>'\n",
              "            + ' to learn more about interactive tables.';\n",
              "          element.innerHTML = '';\n",
              "          dataTable['output_type'] = 'display_data';\n",
              "          await google.colab.output.renderOutput(dataTable, element);\n",
              "          const docLink = document.createElement('div');\n",
              "          docLink.innerHTML = docLinkHtml;\n",
              "          element.appendChild(docLink);\n",
              "        }\n",
              "      </script>\n",
              "    </div>\n",
              "  </div>\n",
              "  "
            ]
          },
          "metadata": {},
          "execution_count": 73
        }
      ]
    },
    {
      "cell_type": "code",
      "source": [
        "#here we are preprocessing \n",
        "X = df.drop(' Label',1)\n",
        "y = df[' Label'].values"
      ],
      "metadata": {
        "id": "-l4sD9ok2hG3",
        "colab": {
          "base_uri": "https://localhost:8080/"
        },
        "outputId": "4d11c037-858d-4c45-d658-73e5a2f73c45"
      },
      "execution_count": 74,
      "outputs": [
        {
          "output_type": "stream",
          "name": "stderr",
          "text": [
            "/usr/local/lib/python3.7/dist-packages/ipykernel_launcher.py:2: FutureWarning: In a future version of pandas all arguments of DataFrame.drop except for the argument 'labels' will be keyword-only\n",
            "  \n"
          ]
        }
      ]
    },
    {
      "cell_type": "code",
      "source": [
        "# Splitting the dataset into the Training set and Test set\n",
        "X_Train, X_Test, y_Train, y_Test = train_test_split(X, y, test_size = 0.25, random_state = 0)"
      ],
      "metadata": {
        "id": "BymEnwtt2lV7"
      },
      "execution_count": 75,
      "outputs": []
    },
    {
      "cell_type": "code",
      "source": [
        "# Feature Scaling\n",
        "X_Train = X_Train.replace((np.inf, -np.inf, np.nan), 0).reset_index(drop=True)\n",
        "X_Test = X_Test.replace((np.inf, -np.inf, np.nan), 0).reset_index(drop=True)\n",
        "X_Train = StandardScaler().fit_transform(X_Train)\n",
        "X_Test = StandardScaler().fit_transform(X_Test)"
      ],
      "metadata": {
        "id": "j1o_3cS22ltL"
      },
      "execution_count": 76,
      "outputs": []
    },
    {
      "cell_type": "code",
      "source": [
        "estimator_list = [\n",
        "    ('SVM',SVM),\n",
        "    ('NB',NB),\n",
        "    ('RF',RF),\n",
        "    ('DT',DT)\n",
        "    ]"
      ],
      "metadata": {
        "id": "P9PhzxMK1ljg"
      },
      "execution_count": 77,
      "outputs": []
    },
    {
      "cell_type": "code",
      "source": [
        "# Build and fit stack model\n",
        "stack_model = StackingClassifier(\n",
        "    estimators=estimator_list, final_estimator=LogisticRegression())\n",
        "stack_model.fit(X_train, y_train)"
      ],
      "metadata": {
        "id": "skgQX0lS2JrH",
        "colab": {
          "base_uri": "https://localhost:8080/"
        },
        "outputId": "8e0adf82-81cf-4f08-8f16-5e246c591731"
      },
      "execution_count": 78,
      "outputs": [
        {
          "output_type": "execute_result",
          "data": {
            "text/plain": [
              "StackingClassifier(estimators=[('SVM', SVC(kernel='linear', random_state=0)),\n",
              "                               ('NB', GaussianNB()),\n",
              "                               ('RF',\n",
              "                                RandomForestClassifier(criterion='entropy',\n",
              "                                                       n_estimators=200,\n",
              "                                                       random_state=0)),\n",
              "                               ('DT',\n",
              "                                DecisionTreeClassifier(max_depth=6,\n",
              "                                                       random_state=1))],\n",
              "                   final_estimator=LogisticRegression())"
            ]
          },
          "metadata": {},
          "execution_count": 78
        }
      ]
    },
    {
      "cell_type": "code",
      "source": [
        "# Make predictions\n",
        "y_train_pred = stack_model.predict(X_train)\n",
        "y_test_pred = stack_model.predict(X_test)"
      ],
      "metadata": {
        "id": "eyszDtJU2u0Q"
      },
      "execution_count": 79,
      "outputs": []
    },
    {
      "cell_type": "code",
      "source": [
        "# Training set model performance\n",
        "train_acc = accuracy_score(y_train, y_train_pred)  \n",
        "train_f1 = f1_score(y_train, y_train_pred, average='weighted') \n",
        "train_pr=precision_score(y_train,y_train_pred, average='micro')\n",
        "\n",
        "\n",
        "print('Model performance for Training set')\n",
        "print('Accuracy: %s' % train_acc)\n",
        "print('F1 score: %s' % train_f1)\n",
        "print(\"Precision:%s\",train_pr)"
      ],
      "metadata": {
        "id": "aTFlLyWz3CTH",
        "colab": {
          "base_uri": "https://localhost:8080/"
        },
        "outputId": "0d9a2ec4-e005-411b-a659-f90ea01829cb"
      },
      "execution_count": 80,
      "outputs": [
        {
          "output_type": "stream",
          "name": "stdout",
          "text": [
            "Model performance for Training set\n",
            "Accuracy: 0.9999667766727945\n",
            "F1 score: 0.9999667766727945\n",
            "Precision:%s 0.9999667766727945\n"
          ]
        }
      ]
    },
    {
      "cell_type": "code",
      "source": [
        "# Test set model performance\n",
        "test_acc = accuracy_score(y_test, y_test_pred)  \n",
        "test_f1 = f1_score(y_test, y_test_pred, average='weighted') \n",
        "test_pr=precision_score(y_test,y_test_pred, average='micro')\n",
        "\n",
        "print('Model performance for Test set')\n",
        "print('Accuracy: %s' % test_acc)\n",
        "print('F1 score: %s' % test_f1)\n",
        "print(\"Precision:%s\",test_pr)"
      ],
      "metadata": {
        "id": "AiAMsRXb3NfD",
        "colab": {
          "base_uri": "https://localhost:8080/"
        },
        "outputId": "2e87f3a7-b0d4-4bec-9abd-73a48318e927"
      },
      "execution_count": 81,
      "outputs": [
        {
          "output_type": "stream",
          "name": "stdout",
          "text": [
            "Model performance for Test set\n",
            "Accuracy: 0.9999114044607854\n",
            "F1 score: 0.9999114044607854\n",
            "Precision:%s 0.9999114044607854\n"
          ]
        }
      ]
    },
    {
      "cell_type": "code",
      "source": [
        "cm=confusion_matrix(y_test, y_test_pred)\n",
        "print(cm)\n"
      ],
      "metadata": {
        "id": "3zNDiOOMLXuF",
        "colab": {
          "base_uri": "https://localhost:8080/"
        },
        "outputId": "6895fa03-b494-4d24-e946-065ee0100d1d"
      },
      "execution_count": 82,
      "outputs": [
        {
          "output_type": "stream",
          "name": "stdout",
          "text": [
            "[[19544     2]\n",
            " [    2 25601]]\n"
          ]
        }
      ]
    },
    {
      "cell_type": "code",
      "source": [
        "print(classification_report(y_test, y_test_pred))"
      ],
      "metadata": {
        "id": "wi1JNfMQ0LCy",
        "colab": {
          "base_uri": "https://localhost:8080/"
        },
        "outputId": "8fda2c01-414c-4366-a0c6-a771d9a74276"
      },
      "execution_count": 83,
      "outputs": [
        {
          "output_type": "stream",
          "name": "stdout",
          "text": [
            "              precision    recall  f1-score   support\n",
            "\n",
            "      BENIGN       1.00      1.00      1.00     19546\n",
            "        DDoS       1.00      1.00      1.00     25603\n",
            "\n",
            "    accuracy                           1.00     45149\n",
            "   macro avg       1.00      1.00      1.00     45149\n",
            "weighted avg       1.00      1.00      1.00     45149\n",
            "\n"
          ]
        }
      ]
    }
  ],
  "metadata": {
    "colab": {
      "collapsed_sections": [],
      "name": "DDOS Stacked.ipynb",
      "provenance": []
    },
    "kernelspec": {
      "display_name": "Python 3",
      "name": "python3"
    },
    "language_info": {
      "name": "python"
    },
    "accelerator": "GPU"
  },
  "nbformat": 4,
  "nbformat_minor": 0
}